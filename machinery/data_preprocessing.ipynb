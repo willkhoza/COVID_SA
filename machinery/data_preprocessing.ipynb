{
 "nbformat": 4,
 "nbformat_minor": 2,
 "metadata": {
  "language_info": {
   "name": "python",
   "codemirror_mode": {
    "name": "ipython",
    "version": 3
   },
   "version": "3.7.6-final"
  },
  "orig_nbformat": 2,
  "file_extension": ".py",
  "mimetype": "text/x-python",
  "name": "python",
  "npconvert_exporter": "python",
  "pygments_lexer": "ipython3",
  "version": 3,
  "kernelspec": {
   "name": "python3",
   "display_name": "Python 3"
  }
 },
 "cells": [
  {
   "cell_type": "code",
   "execution_count": 1,
   "metadata": {},
   "outputs": [],
   "source": [
    "from covid19 import get_death_data\n",
    "from covid19 import get_confirm_data\n",
    "from covid19 import get_recovery_data\n",
    "from covid19 import get_population_data"
   ]
  },
  {
   "cell_type": "code",
   "execution_count": 2,
   "metadata": {},
   "outputs": [],
   "source": [
    "import pandas as pd\n",
    "from datetime import datetime\n",
    "from datetime import date"
   ]
  },
  {
   "cell_type": "code",
   "execution_count": 3,
   "metadata": {},
   "outputs": [],
   "source": [
    "data_deaths = get_death_data()\n",
    "data_confirmed = get_confirm_data()\n",
    "data_population = get_population_data()"
   ]
  },
  {
   "cell_type": "code",
   "execution_count": 4,
   "metadata": {},
   "outputs": [],
   "source": [
    "def get_first_dt(dat, out_name):\n",
    "    out_data = []\n",
    "    for country in dat.T:\n",
    "        try:\n",
    "            dt = (dat.T[dat.T[country]>0]).index[0]\n",
    "            dt = datetime.strptime(dt, \"%m/%d/%y\")\n",
    "        except:\n",
    "            dt = None\n",
    "        out_data.append([country, dt])\n",
    "    out_data = pd.DataFrame(out_data)\n",
    "    out_data.columns = ['country', out_name]\n",
    "    out_data.set_index('country', inplace = True)\n",
    "    return out_data"
   ]
  },
  {
   "cell_type": "code",
   "execution_count": 5,
   "metadata": {},
   "outputs": [
    {
     "output_type": "execute_result",
     "data": {
      "text/plain": "                           death  confirmed\ncountry                                    \nChina                 2020-01-22 2020-01-22\nUS                    2020-02-29 2020-01-22\nThailand              2020-03-01 2020-01-22\nTaiwan*               2020-02-16 2020-01-22\nJapan                 2020-02-13 2020-01-22\n...                          ...        ...\nMalawi                2020-04-07 2020-04-02\nWestern Sahara               NaT 2020-04-05\nSouth Sudan                  NaT 2020-04-05\nSao Tome and Principe        NaT 2020-04-06\nYemen                        NaT 2020-04-10\n\n[185 rows x 2 columns]",
      "text/html": "<div>\n<style scoped>\n    .dataframe tbody tr th:only-of-type {\n        vertical-align: middle;\n    }\n\n    .dataframe tbody tr th {\n        vertical-align: top;\n    }\n\n    .dataframe thead th {\n        text-align: right;\n    }\n</style>\n<table border=\"1\" class=\"dataframe\">\n  <thead>\n    <tr style=\"text-align: right;\">\n      <th></th>\n      <th>death</th>\n      <th>confirmed</th>\n    </tr>\n    <tr>\n      <th>country</th>\n      <th></th>\n      <th></th>\n    </tr>\n  </thead>\n  <tbody>\n    <tr>\n      <th>China</th>\n      <td>2020-01-22</td>\n      <td>2020-01-22</td>\n    </tr>\n    <tr>\n      <th>US</th>\n      <td>2020-02-29</td>\n      <td>2020-01-22</td>\n    </tr>\n    <tr>\n      <th>Thailand</th>\n      <td>2020-03-01</td>\n      <td>2020-01-22</td>\n    </tr>\n    <tr>\n      <th>Taiwan*</th>\n      <td>2020-02-16</td>\n      <td>2020-01-22</td>\n    </tr>\n    <tr>\n      <th>Japan</th>\n      <td>2020-02-13</td>\n      <td>2020-01-22</td>\n    </tr>\n    <tr>\n      <th>...</th>\n      <td>...</td>\n      <td>...</td>\n    </tr>\n    <tr>\n      <th>Malawi</th>\n      <td>2020-04-07</td>\n      <td>2020-04-02</td>\n    </tr>\n    <tr>\n      <th>Western Sahara</th>\n      <td>NaT</td>\n      <td>2020-04-05</td>\n    </tr>\n    <tr>\n      <th>South Sudan</th>\n      <td>NaT</td>\n      <td>2020-04-05</td>\n    </tr>\n    <tr>\n      <th>Sao Tome and Principe</th>\n      <td>NaT</td>\n      <td>2020-04-06</td>\n    </tr>\n    <tr>\n      <th>Yemen</th>\n      <td>NaT</td>\n      <td>2020-04-10</td>\n    </tr>\n  </tbody>\n</table>\n<p>185 rows × 2 columns</p>\n</div>"
     },
     "metadata": {},
     "execution_count": 5
    }
   ],
   "source": [
    "get_first_dt(data_deaths, 'death').join(get_first_dt(data_confirmed, 'confirmed')).sort_values(\"confirmed\")"
   ]
  },
  {
   "cell_type": "code",
   "execution_count": 6,
   "metadata": {
    "tags": [
     "outputPrepend",
     "outputPrepend",
     "outputPrepend",
     "outputPrepend",
     "outputPrepend"
    ]
   },
   "outputs": [],
   "source": [
    "timeline = get_first_dt(data_deaths, 'death').join(get_first_dt(data_confirmed, 'confirmed'))\n",
    "timeline[\"discovery\"] = datetime.strptime(\"11/17/19\", \"%m/%d/%y\")"
   ]
  },
  {
   "cell_type": "code",
   "execution_count": 7,
   "metadata": {},
   "outputs": [],
   "source": [
    "timeline['t1'] = (timeline[\"confirmed\"] - timeline[\"discovery\"]).apply(lambda x: x.days)\n",
    "timeline['t2'] = (timeline[\"death\"] - timeline[\"confirmed\"]).apply(lambda x: x.days)"
   ]
  },
  {
   "cell_type": "code",
   "execution_count": 8,
   "metadata": {},
   "outputs": [],
   "source": [
    "import matplotlib.pyplot as plt"
   ]
  },
  {
   "cell_type": "code",
   "execution_count": 9,
   "metadata": {},
   "outputs": [
    {
     "output_type": "execute_result",
     "data": {
      "text/plain": "array([[<matplotlib.axes._subplots.AxesSubplot object at 0x000002B830662D08>,\n        <matplotlib.axes._subplots.AxesSubplot object at 0x000002B83062D848>]],\n      dtype=object)"
     },
     "metadata": {},
     "execution_count": 9
    },
    {
     "output_type": "display_data",
     "data": {
      "text/plain": "<Figure size 432x288 with 2 Axes>",
      "image/svg+xml": "<?xml version=\"1.0\" encoding=\"utf-8\" standalone=\"no\"?>\r\n<!DOCTYPE svg PUBLIC \"-//W3C//DTD SVG 1.1//EN\"\r\n  \"http://www.w3.org/Graphics/SVG/1.1/DTD/svg11.dtd\">\r\n<!-- Created with matplotlib (https://matplotlib.org/) -->\r\n<svg height=\"263.63625pt\" version=\"1.1\" viewBox=\"0 0 368.925 263.63625\" width=\"368.925pt\" xmlns=\"http://www.w3.org/2000/svg\" xmlns:xlink=\"http://www.w3.org/1999/xlink\">\r\n <defs>\r\n  <style type=\"text/css\">\r\n*{stroke-linecap:butt;stroke-linejoin:round;}\r\n  </style>\r\n </defs>\r\n <g id=\"figure_1\">\r\n  <g id=\"patch_1\">\r\n   <path d=\"M -0 263.63625 \r\nL 368.925 263.63625 \r\nL 368.925 0 \r\nL -0 0 \r\nz\r\n\" style=\"fill:none;\"/>\r\n  </g>\r\n  <g id=\"axes_1\">\r\n   <g id=\"patch_2\">\r\n    <path d=\"M 26.925 239.758125 \r\nL 172.490217 239.758125 \r\nL 172.490217 22.318125 \r\nL 26.925 22.318125 \r\nz\r\n\" style=\"fill:#ffffff;\"/>\r\n   </g>\r\n   <g id=\"patch_3\">\r\n    <path clip-path=\"url(#p0dbf180897)\" d=\"M 33.541601 239.758125 \r\nL 46.774802 239.758125 \r\nL 46.774802 153.071082 \r\nL 33.541601 153.071082 \r\nz\r\n\" style=\"fill:#1f77b4;\"/>\r\n   </g>\r\n   <g id=\"patch_4\">\r\n    <path clip-path=\"url(#p0dbf180897)\" d=\"M 46.774802 239.758125 \r\nL 60.008004 239.758125 \r\nL 60.008004 201.23055 \r\nL 46.774802 201.23055 \r\nz\r\n\" style=\"fill:#1f77b4;\"/>\r\n   </g>\r\n   <g id=\"patch_5\">\r\n    <path clip-path=\"url(#p0dbf180897)\" d=\"M 60.008004 239.758125 \r\nL 73.241206 239.758125 \r\nL 73.241206 230.126231 \r\nL 60.008004 230.126231 \r\nz\r\n\" style=\"fill:#1f77b4;\"/>\r\n   </g>\r\n   <g id=\"patch_6\">\r\n    <path clip-path=\"url(#p0dbf180897)\" d=\"M 73.241206 239.758125 \r\nL 86.474407 239.758125 \r\nL 86.474407 225.310284 \r\nL 73.241206 225.310284 \r\nz\r\n\" style=\"fill:#1f77b4;\"/>\r\n   </g>\r\n   <g id=\"patch_7\">\r\n    <path clip-path=\"url(#p0dbf180897)\" d=\"M 86.474407 239.758125 \r\nL 99.707609 239.758125 \r\nL 99.707609 71.199985 \r\nL 86.474407 71.199985 \r\nz\r\n\" style=\"fill:#1f77b4;\"/>\r\n   </g>\r\n   <g id=\"patch_8\">\r\n    <path clip-path=\"url(#p0dbf180897)\" d=\"M 99.707609 239.758125 \r\nL 112.94081 239.758125 \r\nL 112.94081 61.568092 \r\nL 99.707609 61.568092 \r\nz\r\n\" style=\"fill:#1f77b4;\"/>\r\n   </g>\r\n   <g id=\"patch_9\">\r\n    <path clip-path=\"url(#p0dbf180897)\" d=\"M 112.94081 239.758125 \r\nL 126.174012 239.758125 \r\nL 126.174012 32.672411 \r\nL 112.94081 32.672411 \r\nz\r\n\" style=\"fill:#1f77b4;\"/>\r\n   </g>\r\n   <g id=\"patch_10\">\r\n    <path clip-path=\"url(#p0dbf180897)\" d=\"M 126.174012 239.758125 \r\nL 139.407213 239.758125 \r\nL 139.407213 104.911613 \r\nL 126.174012 104.911613 \r\nz\r\n\" style=\"fill:#1f77b4;\"/>\r\n   </g>\r\n   <g id=\"patch_11\">\r\n    <path clip-path=\"url(#p0dbf180897)\" d=\"M 139.407213 239.758125 \r\nL 152.640415 239.758125 \r\nL 152.640415 206.046497 \r\nL 139.407213 206.046497 \r\nz\r\n\" style=\"fill:#1f77b4;\"/>\r\n   </g>\r\n   <g id=\"patch_12\">\r\n    <path clip-path=\"url(#p0dbf180897)\" d=\"M 152.640415 239.758125 \r\nL 165.873617 239.758125 \r\nL 165.873617 220.494338 \r\nL 152.640415 220.494338 \r\nz\r\n\" style=\"fill:#1f77b4;\"/>\r\n   </g>\r\n   <g id=\"matplotlib.axis_1\">\r\n    <g id=\"xtick_1\">\r\n     <g id=\"line2d_1\">\r\n      <path clip-path=\"url(#p0dbf180897)\" d=\"M 48.6174 239.758125 \r\nL 48.6174 22.318125 \r\n\" style=\"fill:none;stroke:#b0b0b0;stroke-linecap:square;stroke-width:0.8;\"/>\r\n     </g>\r\n     <g id=\"line2d_2\">\r\n      <defs>\r\n       <path d=\"M 0 0 \r\nL 0 3.5 \r\n\" id=\"m89496758e7\" style=\"stroke:#000000;stroke-width:0.8;\"/>\r\n      </defs>\r\n      <g>\r\n       <use style=\"stroke:#000000;stroke-width:0.8;\" x=\"48.6174\" xlink:href=\"#m89496758e7\" y=\"239.758125\"/>\r\n      </g>\r\n     </g>\r\n     <g id=\"text_1\">\r\n      <!-- 75 -->\r\n      <defs>\r\n       <path d=\"M 8.203125 72.90625 \r\nL 55.078125 72.90625 \r\nL 55.078125 68.703125 \r\nL 28.609375 0 \r\nL 18.3125 0 \r\nL 43.21875 64.59375 \r\nL 8.203125 64.59375 \r\nz\r\n\" id=\"DejaVuSans-55\"/>\r\n       <path d=\"M 10.796875 72.90625 \r\nL 49.515625 72.90625 \r\nL 49.515625 64.59375 \r\nL 19.828125 64.59375 \r\nL 19.828125 46.734375 \r\nQ 21.96875 47.46875 24.109375 47.828125 \r\nQ 26.265625 48.1875 28.421875 48.1875 \r\nQ 40.625 48.1875 47.75 41.5 \r\nQ 54.890625 34.8125 54.890625 23.390625 \r\nQ 54.890625 11.625 47.5625 5.09375 \r\nQ 40.234375 -1.421875 26.90625 -1.421875 \r\nQ 22.3125 -1.421875 17.546875 -0.640625 \r\nQ 12.796875 0.140625 7.71875 1.703125 \r\nL 7.71875 11.625 \r\nQ 12.109375 9.234375 16.796875 8.0625 \r\nQ 21.484375 6.890625 26.703125 6.890625 \r\nQ 35.15625 6.890625 40.078125 11.328125 \r\nQ 45.015625 15.765625 45.015625 23.390625 \r\nQ 45.015625 31 40.078125 35.4375 \r\nQ 35.15625 39.890625 26.703125 39.890625 \r\nQ 22.75 39.890625 18.8125 39.015625 \r\nQ 14.890625 38.140625 10.796875 36.28125 \r\nz\r\n\" id=\"DejaVuSans-53\"/>\r\n      </defs>\r\n      <g transform=\"translate(42.2549 254.356563)scale(0.1 -0.1)\">\r\n       <use xlink:href=\"#DejaVuSans-55\"/>\r\n       <use x=\"63.623047\" xlink:href=\"#DejaVuSans-53\"/>\r\n      </g>\r\n     </g>\r\n    </g>\r\n    <g id=\"xtick_2\">\r\n     <g id=\"line2d_3\">\r\n      <path clip-path=\"url(#p0dbf180897)\" d=\"M 90.49462 239.758125 \r\nL 90.49462 22.318125 \r\n\" style=\"fill:none;stroke:#b0b0b0;stroke-linecap:square;stroke-width:0.8;\"/>\r\n     </g>\r\n     <g id=\"line2d_4\">\r\n      <g>\r\n       <use style=\"stroke:#000000;stroke-width:0.8;\" x=\"90.49462\" xlink:href=\"#m89496758e7\" y=\"239.758125\"/>\r\n      </g>\r\n     </g>\r\n     <g id=\"text_2\">\r\n      <!-- 100 -->\r\n      <defs>\r\n       <path d=\"M 12.40625 8.296875 \r\nL 28.515625 8.296875 \r\nL 28.515625 63.921875 \r\nL 10.984375 60.40625 \r\nL 10.984375 69.390625 \r\nL 28.421875 72.90625 \r\nL 38.28125 72.90625 \r\nL 38.28125 8.296875 \r\nL 54.390625 8.296875 \r\nL 54.390625 0 \r\nL 12.40625 0 \r\nz\r\n\" id=\"DejaVuSans-49\"/>\r\n       <path d=\"M 31.78125 66.40625 \r\nQ 24.171875 66.40625 20.328125 58.90625 \r\nQ 16.5 51.421875 16.5 36.375 \r\nQ 16.5 21.390625 20.328125 13.890625 \r\nQ 24.171875 6.390625 31.78125 6.390625 \r\nQ 39.453125 6.390625 43.28125 13.890625 \r\nQ 47.125 21.390625 47.125 36.375 \r\nQ 47.125 51.421875 43.28125 58.90625 \r\nQ 39.453125 66.40625 31.78125 66.40625 \r\nz\r\nM 31.78125 74.21875 \r\nQ 44.046875 74.21875 50.515625 64.515625 \r\nQ 56.984375 54.828125 56.984375 36.375 \r\nQ 56.984375 17.96875 50.515625 8.265625 \r\nQ 44.046875 -1.421875 31.78125 -1.421875 \r\nQ 19.53125 -1.421875 13.0625 8.265625 \r\nQ 6.59375 17.96875 6.59375 36.375 \r\nQ 6.59375 54.828125 13.0625 64.515625 \r\nQ 19.53125 74.21875 31.78125 74.21875 \r\nz\r\n\" id=\"DejaVuSans-48\"/>\r\n      </defs>\r\n      <g transform=\"translate(80.95087 254.356563)scale(0.1 -0.1)\">\r\n       <use xlink:href=\"#DejaVuSans-49\"/>\r\n       <use x=\"63.623047\" xlink:href=\"#DejaVuSans-48\"/>\r\n       <use x=\"127.246094\" xlink:href=\"#DejaVuSans-48\"/>\r\n      </g>\r\n     </g>\r\n    </g>\r\n    <g id=\"xtick_3\">\r\n     <g id=\"line2d_5\">\r\n      <path clip-path=\"url(#p0dbf180897)\" d=\"M 132.37184 239.758125 \r\nL 132.37184 22.318125 \r\n\" style=\"fill:none;stroke:#b0b0b0;stroke-linecap:square;stroke-width:0.8;\"/>\r\n     </g>\r\n     <g id=\"line2d_6\">\r\n      <g>\r\n       <use style=\"stroke:#000000;stroke-width:0.8;\" x=\"132.37184\" xlink:href=\"#m89496758e7\" y=\"239.758125\"/>\r\n      </g>\r\n     </g>\r\n     <g id=\"text_3\">\r\n      <!-- 125 -->\r\n      <defs>\r\n       <path d=\"M 19.1875 8.296875 \r\nL 53.609375 8.296875 \r\nL 53.609375 0 \r\nL 7.328125 0 \r\nL 7.328125 8.296875 \r\nQ 12.9375 14.109375 22.625 23.890625 \r\nQ 32.328125 33.6875 34.8125 36.53125 \r\nQ 39.546875 41.84375 41.421875 45.53125 \r\nQ 43.3125 49.21875 43.3125 52.78125 \r\nQ 43.3125 58.59375 39.234375 62.25 \r\nQ 35.15625 65.921875 28.609375 65.921875 \r\nQ 23.96875 65.921875 18.8125 64.3125 \r\nQ 13.671875 62.703125 7.8125 59.421875 \r\nL 7.8125 69.390625 \r\nQ 13.765625 71.78125 18.9375 73 \r\nQ 24.125 74.21875 28.421875 74.21875 \r\nQ 39.75 74.21875 46.484375 68.546875 \r\nQ 53.21875 62.890625 53.21875 53.421875 \r\nQ 53.21875 48.921875 51.53125 44.890625 \r\nQ 49.859375 40.875 45.40625 35.40625 \r\nQ 44.1875 33.984375 37.640625 27.21875 \r\nQ 31.109375 20.453125 19.1875 8.296875 \r\nz\r\n\" id=\"DejaVuSans-50\"/>\r\n      </defs>\r\n      <g transform=\"translate(122.82809 254.356563)scale(0.1 -0.1)\">\r\n       <use xlink:href=\"#DejaVuSans-49\"/>\r\n       <use x=\"63.623047\" xlink:href=\"#DejaVuSans-50\"/>\r\n       <use x=\"127.246094\" xlink:href=\"#DejaVuSans-53\"/>\r\n      </g>\r\n     </g>\r\n    </g>\r\n   </g>\r\n   <g id=\"matplotlib.axis_2\">\r\n    <g id=\"ytick_1\">\r\n     <g id=\"line2d_7\">\r\n      <path clip-path=\"url(#p0dbf180897)\" d=\"M 26.925 239.758125 \r\nL 172.490217 239.758125 \r\n\" style=\"fill:none;stroke:#b0b0b0;stroke-linecap:square;stroke-width:0.8;\"/>\r\n     </g>\r\n     <g id=\"line2d_8\">\r\n      <defs>\r\n       <path d=\"M 0 0 \r\nL -3.5 0 \r\n\" id=\"mb86da2d5b2\" style=\"stroke:#000000;stroke-width:0.8;\"/>\r\n      </defs>\r\n      <g>\r\n       <use style=\"stroke:#000000;stroke-width:0.8;\" x=\"26.925\" xlink:href=\"#mb86da2d5b2\" y=\"239.758125\"/>\r\n      </g>\r\n     </g>\r\n     <g id=\"text_4\">\r\n      <!-- 0 -->\r\n      <g transform=\"translate(13.5625 243.557344)scale(0.1 -0.1)\">\r\n       <use xlink:href=\"#DejaVuSans-48\"/>\r\n      </g>\r\n     </g>\r\n    </g>\r\n    <g id=\"ytick_2\">\r\n     <g id=\"line2d_9\">\r\n      <path clip-path=\"url(#p0dbf180897)\" d=\"M 26.925 191.598657 \r\nL 172.490217 191.598657 \r\n\" style=\"fill:none;stroke:#b0b0b0;stroke-linecap:square;stroke-width:0.8;\"/>\r\n     </g>\r\n     <g id=\"line2d_10\">\r\n      <g>\r\n       <use style=\"stroke:#000000;stroke-width:0.8;\" x=\"26.925\" xlink:href=\"#mb86da2d5b2\" y=\"191.598657\"/>\r\n      </g>\r\n     </g>\r\n     <g id=\"text_5\">\r\n      <!-- 10 -->\r\n      <g transform=\"translate(7.2 195.397875)scale(0.1 -0.1)\">\r\n       <use xlink:href=\"#DejaVuSans-49\"/>\r\n       <use x=\"63.623047\" xlink:href=\"#DejaVuSans-48\"/>\r\n      </g>\r\n     </g>\r\n    </g>\r\n    <g id=\"ytick_3\">\r\n     <g id=\"line2d_11\">\r\n      <path clip-path=\"url(#p0dbf180897)\" d=\"M 26.925 143.439188 \r\nL 172.490217 143.439188 \r\n\" style=\"fill:none;stroke:#b0b0b0;stroke-linecap:square;stroke-width:0.8;\"/>\r\n     </g>\r\n     <g id=\"line2d_12\">\r\n      <g>\r\n       <use style=\"stroke:#000000;stroke-width:0.8;\" x=\"26.925\" xlink:href=\"#mb86da2d5b2\" y=\"143.439188\"/>\r\n      </g>\r\n     </g>\r\n     <g id=\"text_6\">\r\n      <!-- 20 -->\r\n      <g transform=\"translate(7.2 147.238407)scale(0.1 -0.1)\">\r\n       <use xlink:href=\"#DejaVuSans-50\"/>\r\n       <use x=\"63.623047\" xlink:href=\"#DejaVuSans-48\"/>\r\n      </g>\r\n     </g>\r\n    </g>\r\n    <g id=\"ytick_4\">\r\n     <g id=\"line2d_13\">\r\n      <path clip-path=\"url(#p0dbf180897)\" d=\"M 26.925 95.27972 \r\nL 172.490217 95.27972 \r\n\" style=\"fill:none;stroke:#b0b0b0;stroke-linecap:square;stroke-width:0.8;\"/>\r\n     </g>\r\n     <g id=\"line2d_14\">\r\n      <g>\r\n       <use style=\"stroke:#000000;stroke-width:0.8;\" x=\"26.925\" xlink:href=\"#mb86da2d5b2\" y=\"95.27972\"/>\r\n      </g>\r\n     </g>\r\n     <g id=\"text_7\">\r\n      <!-- 30 -->\r\n      <defs>\r\n       <path d=\"M 40.578125 39.3125 \r\nQ 47.65625 37.796875 51.625 33 \r\nQ 55.609375 28.21875 55.609375 21.1875 \r\nQ 55.609375 10.40625 48.1875 4.484375 \r\nQ 40.765625 -1.421875 27.09375 -1.421875 \r\nQ 22.515625 -1.421875 17.65625 -0.515625 \r\nQ 12.796875 0.390625 7.625 2.203125 \r\nL 7.625 11.71875 \r\nQ 11.71875 9.328125 16.59375 8.109375 \r\nQ 21.484375 6.890625 26.8125 6.890625 \r\nQ 36.078125 6.890625 40.9375 10.546875 \r\nQ 45.796875 14.203125 45.796875 21.1875 \r\nQ 45.796875 27.640625 41.28125 31.265625 \r\nQ 36.765625 34.90625 28.71875 34.90625 \r\nL 20.21875 34.90625 \r\nL 20.21875 43.015625 \r\nL 29.109375 43.015625 \r\nQ 36.375 43.015625 40.234375 45.921875 \r\nQ 44.09375 48.828125 44.09375 54.296875 \r\nQ 44.09375 59.90625 40.109375 62.90625 \r\nQ 36.140625 65.921875 28.71875 65.921875 \r\nQ 24.65625 65.921875 20.015625 65.03125 \r\nQ 15.375 64.15625 9.8125 62.3125 \r\nL 9.8125 71.09375 \r\nQ 15.4375 72.65625 20.34375 73.4375 \r\nQ 25.25 74.21875 29.59375 74.21875 \r\nQ 40.828125 74.21875 47.359375 69.109375 \r\nQ 53.90625 64.015625 53.90625 55.328125 \r\nQ 53.90625 49.265625 50.4375 45.09375 \r\nQ 46.96875 40.921875 40.578125 39.3125 \r\nz\r\n\" id=\"DejaVuSans-51\"/>\r\n      </defs>\r\n      <g transform=\"translate(7.2 99.078938)scale(0.1 -0.1)\">\r\n       <use xlink:href=\"#DejaVuSans-51\"/>\r\n       <use x=\"63.623047\" xlink:href=\"#DejaVuSans-48\"/>\r\n      </g>\r\n     </g>\r\n    </g>\r\n    <g id=\"ytick_5\">\r\n     <g id=\"line2d_15\">\r\n      <path clip-path=\"url(#p0dbf180897)\" d=\"M 26.925 47.120251 \r\nL 172.490217 47.120251 \r\n\" style=\"fill:none;stroke:#b0b0b0;stroke-linecap:square;stroke-width:0.8;\"/>\r\n     </g>\r\n     <g id=\"line2d_16\">\r\n      <g>\r\n       <use style=\"stroke:#000000;stroke-width:0.8;\" x=\"26.925\" xlink:href=\"#mb86da2d5b2\" y=\"47.120251\"/>\r\n      </g>\r\n     </g>\r\n     <g id=\"text_8\">\r\n      <!-- 40 -->\r\n      <defs>\r\n       <path d=\"M 37.796875 64.3125 \r\nL 12.890625 25.390625 \r\nL 37.796875 25.390625 \r\nz\r\nM 35.203125 72.90625 \r\nL 47.609375 72.90625 \r\nL 47.609375 25.390625 \r\nL 58.015625 25.390625 \r\nL 58.015625 17.1875 \r\nL 47.609375 17.1875 \r\nL 47.609375 0 \r\nL 37.796875 0 \r\nL 37.796875 17.1875 \r\nL 4.890625 17.1875 \r\nL 4.890625 26.703125 \r\nz\r\n\" id=\"DejaVuSans-52\"/>\r\n      </defs>\r\n      <g transform=\"translate(7.2 50.91947)scale(0.1 -0.1)\">\r\n       <use xlink:href=\"#DejaVuSans-52\"/>\r\n       <use x=\"63.623047\" xlink:href=\"#DejaVuSans-48\"/>\r\n      </g>\r\n     </g>\r\n    </g>\r\n   </g>\r\n   <g id=\"patch_13\">\r\n    <path d=\"M 26.925 239.758125 \r\nL 26.925 22.318125 \r\n\" style=\"fill:none;stroke:#000000;stroke-linecap:square;stroke-linejoin:miter;stroke-width:0.8;\"/>\r\n   </g>\r\n   <g id=\"patch_14\">\r\n    <path d=\"M 172.490217 239.758125 \r\nL 172.490217 22.318125 \r\n\" style=\"fill:none;stroke:#000000;stroke-linecap:square;stroke-linejoin:miter;stroke-width:0.8;\"/>\r\n   </g>\r\n   <g id=\"patch_15\">\r\n    <path d=\"M 26.925 239.758125 \r\nL 172.490217 239.758125 \r\n\" style=\"fill:none;stroke:#000000;stroke-linecap:square;stroke-linejoin:miter;stroke-width:0.8;\"/>\r\n   </g>\r\n   <g id=\"patch_16\">\r\n    <path d=\"M 26.925 22.318125 \r\nL 172.490217 22.318125 \r\n\" style=\"fill:none;stroke:#000000;stroke-linecap:square;stroke-linejoin:miter;stroke-width:0.8;\"/>\r\n   </g>\r\n   <g id=\"text_9\">\r\n    <!-- t1 -->\r\n    <defs>\r\n     <path d=\"M 18.3125 70.21875 \r\nL 18.3125 54.6875 \r\nL 36.8125 54.6875 \r\nL 36.8125 47.703125 \r\nL 18.3125 47.703125 \r\nL 18.3125 18.015625 \r\nQ 18.3125 11.328125 20.140625 9.421875 \r\nQ 21.96875 7.515625 27.59375 7.515625 \r\nL 36.8125 7.515625 \r\nL 36.8125 0 \r\nL 27.59375 0 \r\nQ 17.1875 0 13.234375 3.875 \r\nQ 9.28125 7.765625 9.28125 18.015625 \r\nL 9.28125 47.703125 \r\nL 2.6875 47.703125 \r\nL 2.6875 54.6875 \r\nL 9.28125 54.6875 \r\nL 9.28125 70.21875 \r\nz\r\n\" id=\"DejaVuSans-116\"/>\r\n    </defs>\r\n    <g transform=\"translate(93.537921 16.318125)scale(0.12 -0.12)\">\r\n     <use xlink:href=\"#DejaVuSans-116\"/>\r\n     <use x=\"39.208984\" xlink:href=\"#DejaVuSans-49\"/>\r\n    </g>\r\n   </g>\r\n  </g>\r\n  <g id=\"axes_2\">\r\n   <g id=\"patch_17\">\r\n    <path d=\"M 216.159783 239.758125 \r\nL 361.725 239.758125 \r\nL 361.725 22.318125 \r\nL 216.159783 22.318125 \r\nz\r\n\" style=\"fill:#ffffff;\"/>\r\n   </g>\r\n   <g id=\"patch_18\">\r\n    <path clip-path=\"url(#pf26508a721)\" d=\"M 222.776383 239.758125 \r\nL 236.009585 239.758125 \r\nL 236.009585 81.398461 \r\nL 222.776383 81.398461 \r\nz\r\n\" style=\"fill:#1f77b4;\"/>\r\n   </g>\r\n   <g id=\"patch_19\">\r\n    <path clip-path=\"url(#pf26508a721)\" d=\"M 236.009585 239.758125 \r\nL 249.242787 239.758125 \r\nL 249.242787 81.398461 \r\nL 236.009585 81.398461 \r\nz\r\n\" style=\"fill:#1f77b4;\"/>\r\n   </g>\r\n   <g id=\"patch_20\">\r\n    <path clip-path=\"url(#pf26508a721)\" d=\"M 249.242787 239.758125 \r\nL 262.475988 239.758125 \r\nL 262.475988 32.672411 \r\nL 249.242787 32.672411 \r\nz\r\n\" style=\"fill:#1f77b4;\"/>\r\n   </g>\r\n   <g id=\"patch_21\">\r\n    <path clip-path=\"url(#pf26508a721)\" d=\"M 262.475988 239.758125 \r\nL 275.70919 239.758125 \r\nL 275.70919 69.216949 \r\nL 262.475988 69.216949 \r\nz\r\n\" style=\"fill:#1f77b4;\"/>\r\n   </g>\r\n   <g id=\"patch_22\">\r\n    <path clip-path=\"url(#pf26508a721)\" d=\"M 275.70919 239.758125 \r\nL 288.942391 239.758125 \r\nL 288.942391 160.578293 \r\nL 275.70919 160.578293 \r\nz\r\n\" style=\"fill:#1f77b4;\"/>\r\n   </g>\r\n   <g id=\"patch_23\">\r\n    <path clip-path=\"url(#pf26508a721)\" d=\"M 288.942391 239.758125 \r\nL 302.175593 239.758125 \r\nL 302.175593 184.941318 \r\nL 288.942391 184.941318 \r\nz\r\n\" style=\"fill:#1f77b4;\"/>\r\n   </g>\r\n   <g id=\"patch_24\">\r\n    <path clip-path=\"url(#pf26508a721)\" d=\"M 302.175593 239.758125 \r\nL 315.408794 239.758125 \r\nL 315.408794 197.122831 \r\nL 302.175593 197.122831 \r\nz\r\n\" style=\"fill:#1f77b4;\"/>\r\n   </g>\r\n   <g id=\"patch_25\">\r\n    <path clip-path=\"url(#pf26508a721)\" d=\"M 315.408794 239.758125 \r\nL 328.641996 239.758125 \r\nL 328.641996 227.576612 \r\nL 315.408794 227.576612 \r\nz\r\n\" style=\"fill:#1f77b4;\"/>\r\n   </g>\r\n   <g id=\"patch_26\">\r\n    <path clip-path=\"url(#pf26508a721)\" d=\"M 328.641996 239.758125 \r\nL 341.875198 239.758125 \r\nL 341.875198 221.485856 \r\nL 328.641996 221.485856 \r\nz\r\n\" style=\"fill:#1f77b4;\"/>\r\n   </g>\r\n   <g id=\"patch_27\">\r\n    <path clip-path=\"url(#pf26508a721)\" d=\"M 341.875198 239.758125 \r\nL 355.108399 239.758125 \r\nL 355.108399 227.576612 \r\nL 341.875198 227.576612 \r\nz\r\n\" style=\"fill:#1f77b4;\"/>\r\n   </g>\r\n   <g id=\"matplotlib.axis_3\">\r\n    <g id=\"xtick_4\">\r\n     <g id=\"line2d_17\">\r\n      <path clip-path=\"url(#pf26508a721)\" d=\"M 222.776383 239.758125 \r\nL 222.776383 22.318125 \r\n\" style=\"fill:none;stroke:#b0b0b0;stroke-linecap:square;stroke-width:0.8;\"/>\r\n     </g>\r\n     <g id=\"line2d_18\">\r\n      <g>\r\n       <use style=\"stroke:#000000;stroke-width:0.8;\" x=\"222.776383\" xlink:href=\"#m89496758e7\" y=\"239.758125\"/>\r\n      </g>\r\n     </g>\r\n     <g id=\"text_10\">\r\n      <!-- 0 -->\r\n      <g transform=\"translate(219.595133 254.356563)scale(0.1 -0.1)\">\r\n       <use xlink:href=\"#DejaVuSans-48\"/>\r\n      </g>\r\n     </g>\r\n    </g>\r\n    <g id=\"xtick_5\">\r\n     <g id=\"line2d_19\">\r\n      <path clip-path=\"url(#pf26508a721)\" d=\"M 266.16393 239.758125 \r\nL 266.16393 22.318125 \r\n\" style=\"fill:none;stroke:#b0b0b0;stroke-linecap:square;stroke-width:0.8;\"/>\r\n     </g>\r\n     <g id=\"line2d_20\">\r\n      <g>\r\n       <use style=\"stroke:#000000;stroke-width:0.8;\" x=\"266.16393\" xlink:href=\"#m89496758e7\" y=\"239.758125\"/>\r\n      </g>\r\n     </g>\r\n     <g id=\"text_11\">\r\n      <!-- 20 -->\r\n      <g transform=\"translate(259.80143 254.356563)scale(0.1 -0.1)\">\r\n       <use xlink:href=\"#DejaVuSans-50\"/>\r\n       <use x=\"63.623047\" xlink:href=\"#DejaVuSans-48\"/>\r\n      </g>\r\n     </g>\r\n    </g>\r\n    <g id=\"xtick_6\">\r\n     <g id=\"line2d_21\">\r\n      <path clip-path=\"url(#pf26508a721)\" d=\"M 309.551476 239.758125 \r\nL 309.551476 22.318125 \r\n\" style=\"fill:none;stroke:#b0b0b0;stroke-linecap:square;stroke-width:0.8;\"/>\r\n     </g>\r\n     <g id=\"line2d_22\">\r\n      <g>\r\n       <use style=\"stroke:#000000;stroke-width:0.8;\" x=\"309.551476\" xlink:href=\"#m89496758e7\" y=\"239.758125\"/>\r\n      </g>\r\n     </g>\r\n     <g id=\"text_12\">\r\n      <!-- 40 -->\r\n      <g transform=\"translate(303.188976 254.356563)scale(0.1 -0.1)\">\r\n       <use xlink:href=\"#DejaVuSans-52\"/>\r\n       <use x=\"63.623047\" xlink:href=\"#DejaVuSans-48\"/>\r\n      </g>\r\n     </g>\r\n    </g>\r\n    <g id=\"xtick_7\">\r\n     <g id=\"line2d_23\">\r\n      <path clip-path=\"url(#pf26508a721)\" d=\"M 352.939022 239.758125 \r\nL 352.939022 22.318125 \r\n\" style=\"fill:none;stroke:#b0b0b0;stroke-linecap:square;stroke-width:0.8;\"/>\r\n     </g>\r\n     <g id=\"line2d_24\">\r\n      <g>\r\n       <use style=\"stroke:#000000;stroke-width:0.8;\" x=\"352.939022\" xlink:href=\"#m89496758e7\" y=\"239.758125\"/>\r\n      </g>\r\n     </g>\r\n     <g id=\"text_13\">\r\n      <!-- 60 -->\r\n      <defs>\r\n       <path d=\"M 33.015625 40.375 \r\nQ 26.375 40.375 22.484375 35.828125 \r\nQ 18.609375 31.296875 18.609375 23.390625 \r\nQ 18.609375 15.53125 22.484375 10.953125 \r\nQ 26.375 6.390625 33.015625 6.390625 \r\nQ 39.65625 6.390625 43.53125 10.953125 \r\nQ 47.40625 15.53125 47.40625 23.390625 \r\nQ 47.40625 31.296875 43.53125 35.828125 \r\nQ 39.65625 40.375 33.015625 40.375 \r\nz\r\nM 52.59375 71.296875 \r\nL 52.59375 62.3125 \r\nQ 48.875 64.0625 45.09375 64.984375 \r\nQ 41.3125 65.921875 37.59375 65.921875 \r\nQ 27.828125 65.921875 22.671875 59.328125 \r\nQ 17.53125 52.734375 16.796875 39.40625 \r\nQ 19.671875 43.65625 24.015625 45.921875 \r\nQ 28.375 48.1875 33.59375 48.1875 \r\nQ 44.578125 48.1875 50.953125 41.515625 \r\nQ 57.328125 34.859375 57.328125 23.390625 \r\nQ 57.328125 12.15625 50.6875 5.359375 \r\nQ 44.046875 -1.421875 33.015625 -1.421875 \r\nQ 20.359375 -1.421875 13.671875 8.265625 \r\nQ 6.984375 17.96875 6.984375 36.375 \r\nQ 6.984375 53.65625 15.1875 63.9375 \r\nQ 23.390625 74.21875 37.203125 74.21875 \r\nQ 40.921875 74.21875 44.703125 73.484375 \r\nQ 48.484375 72.75 52.59375 71.296875 \r\nz\r\n\" id=\"DejaVuSans-54\"/>\r\n      </defs>\r\n      <g transform=\"translate(346.576522 254.356563)scale(0.1 -0.1)\">\r\n       <use xlink:href=\"#DejaVuSans-54\"/>\r\n       <use x=\"63.623047\" xlink:href=\"#DejaVuSans-48\"/>\r\n      </g>\r\n     </g>\r\n    </g>\r\n   </g>\r\n   <g id=\"matplotlib.axis_4\">\r\n    <g id=\"ytick_6\">\r\n     <g id=\"line2d_25\">\r\n      <path clip-path=\"url(#pf26508a721)\" d=\"M 216.159783 239.758125 \r\nL 361.725 239.758125 \r\n\" style=\"fill:none;stroke:#b0b0b0;stroke-linecap:square;stroke-width:0.8;\"/>\r\n     </g>\r\n     <g id=\"line2d_26\">\r\n      <g>\r\n       <use style=\"stroke:#000000;stroke-width:0.8;\" x=\"216.159783\" xlink:href=\"#mb86da2d5b2\" y=\"239.758125\"/>\r\n      </g>\r\n     </g>\r\n     <g id=\"text_14\">\r\n      <!-- 0 -->\r\n      <g transform=\"translate(202.797283 243.557344)scale(0.1 -0.1)\">\r\n       <use xlink:href=\"#DejaVuSans-48\"/>\r\n      </g>\r\n     </g>\r\n    </g>\r\n    <g id=\"ytick_7\">\r\n     <g id=\"line2d_27\">\r\n      <path clip-path=\"url(#pf26508a721)\" d=\"M 216.159783 209.304343 \r\nL 361.725 209.304343 \r\n\" style=\"fill:none;stroke:#b0b0b0;stroke-linecap:square;stroke-width:0.8;\"/>\r\n     </g>\r\n     <g id=\"line2d_28\">\r\n      <g>\r\n       <use style=\"stroke:#000000;stroke-width:0.8;\" x=\"216.159783\" xlink:href=\"#mb86da2d5b2\" y=\"209.304343\"/>\r\n      </g>\r\n     </g>\r\n     <g id=\"text_15\">\r\n      <!-- 5 -->\r\n      <g transform=\"translate(202.797283 213.103562)scale(0.1 -0.1)\">\r\n       <use xlink:href=\"#DejaVuSans-53\"/>\r\n      </g>\r\n     </g>\r\n    </g>\r\n    <g id=\"ytick_8\">\r\n     <g id=\"line2d_29\">\r\n      <path clip-path=\"url(#pf26508a721)\" d=\"M 216.159783 178.850562 \r\nL 361.725 178.850562 \r\n\" style=\"fill:none;stroke:#b0b0b0;stroke-linecap:square;stroke-width:0.8;\"/>\r\n     </g>\r\n     <g id=\"line2d_30\">\r\n      <g>\r\n       <use style=\"stroke:#000000;stroke-width:0.8;\" x=\"216.159783\" xlink:href=\"#mb86da2d5b2\" y=\"178.850562\"/>\r\n      </g>\r\n     </g>\r\n     <g id=\"text_16\">\r\n      <!-- 10 -->\r\n      <g transform=\"translate(196.434783 182.649781)scale(0.1 -0.1)\">\r\n       <use xlink:href=\"#DejaVuSans-49\"/>\r\n       <use x=\"63.623047\" xlink:href=\"#DejaVuSans-48\"/>\r\n      </g>\r\n     </g>\r\n    </g>\r\n    <g id=\"ytick_9\">\r\n     <g id=\"line2d_31\">\r\n      <path clip-path=\"url(#pf26508a721)\" d=\"M 216.159783 148.39678 \r\nL 361.725 148.39678 \r\n\" style=\"fill:none;stroke:#b0b0b0;stroke-linecap:square;stroke-width:0.8;\"/>\r\n     </g>\r\n     <g id=\"line2d_32\">\r\n      <g>\r\n       <use style=\"stroke:#000000;stroke-width:0.8;\" x=\"216.159783\" xlink:href=\"#mb86da2d5b2\" y=\"148.39678\"/>\r\n      </g>\r\n     </g>\r\n     <g id=\"text_17\">\r\n      <!-- 15 -->\r\n      <g transform=\"translate(196.434783 152.195999)scale(0.1 -0.1)\">\r\n       <use xlink:href=\"#DejaVuSans-49\"/>\r\n       <use x=\"63.623047\" xlink:href=\"#DejaVuSans-53\"/>\r\n      </g>\r\n     </g>\r\n    </g>\r\n    <g id=\"ytick_10\">\r\n     <g id=\"line2d_33\">\r\n      <path clip-path=\"url(#pf26508a721)\" d=\"M 216.159783 117.942999 \r\nL 361.725 117.942999 \r\n\" style=\"fill:none;stroke:#b0b0b0;stroke-linecap:square;stroke-width:0.8;\"/>\r\n     </g>\r\n     <g id=\"line2d_34\">\r\n      <g>\r\n       <use style=\"stroke:#000000;stroke-width:0.8;\" x=\"216.159783\" xlink:href=\"#mb86da2d5b2\" y=\"117.942999\"/>\r\n      </g>\r\n     </g>\r\n     <g id=\"text_18\">\r\n      <!-- 20 -->\r\n      <g transform=\"translate(196.434783 121.742218)scale(0.1 -0.1)\">\r\n       <use xlink:href=\"#DejaVuSans-50\"/>\r\n       <use x=\"63.623047\" xlink:href=\"#DejaVuSans-48\"/>\r\n      </g>\r\n     </g>\r\n    </g>\r\n    <g id=\"ytick_11\">\r\n     <g id=\"line2d_35\">\r\n      <path clip-path=\"url(#pf26508a721)\" d=\"M 216.159783 87.489217 \r\nL 361.725 87.489217 \r\n\" style=\"fill:none;stroke:#b0b0b0;stroke-linecap:square;stroke-width:0.8;\"/>\r\n     </g>\r\n     <g id=\"line2d_36\">\r\n      <g>\r\n       <use style=\"stroke:#000000;stroke-width:0.8;\" x=\"216.159783\" xlink:href=\"#mb86da2d5b2\" y=\"87.489217\"/>\r\n      </g>\r\n     </g>\r\n     <g id=\"text_19\">\r\n      <!-- 25 -->\r\n      <g transform=\"translate(196.434783 91.288436)scale(0.1 -0.1)\">\r\n       <use xlink:href=\"#DejaVuSans-50\"/>\r\n       <use x=\"63.623047\" xlink:href=\"#DejaVuSans-53\"/>\r\n      </g>\r\n     </g>\r\n    </g>\r\n    <g id=\"ytick_12\">\r\n     <g id=\"line2d_37\">\r\n      <path clip-path=\"url(#pf26508a721)\" d=\"M 216.159783 57.035436 \r\nL 361.725 57.035436 \r\n\" style=\"fill:none;stroke:#b0b0b0;stroke-linecap:square;stroke-width:0.8;\"/>\r\n     </g>\r\n     <g id=\"line2d_38\">\r\n      <g>\r\n       <use style=\"stroke:#000000;stroke-width:0.8;\" x=\"216.159783\" xlink:href=\"#mb86da2d5b2\" y=\"57.035436\"/>\r\n      </g>\r\n     </g>\r\n     <g id=\"text_20\">\r\n      <!-- 30 -->\r\n      <g transform=\"translate(196.434783 60.834655)scale(0.1 -0.1)\">\r\n       <use xlink:href=\"#DejaVuSans-51\"/>\r\n       <use x=\"63.623047\" xlink:href=\"#DejaVuSans-48\"/>\r\n      </g>\r\n     </g>\r\n    </g>\r\n    <g id=\"ytick_13\">\r\n     <g id=\"line2d_39\">\r\n      <path clip-path=\"url(#pf26508a721)\" d=\"M 216.159783 26.581654 \r\nL 361.725 26.581654 \r\n\" style=\"fill:none;stroke:#b0b0b0;stroke-linecap:square;stroke-width:0.8;\"/>\r\n     </g>\r\n     <g id=\"line2d_40\">\r\n      <g>\r\n       <use style=\"stroke:#000000;stroke-width:0.8;\" x=\"216.159783\" xlink:href=\"#mb86da2d5b2\" y=\"26.581654\"/>\r\n      </g>\r\n     </g>\r\n     <g id=\"text_21\">\r\n      <!-- 35 -->\r\n      <g transform=\"translate(196.434783 30.380873)scale(0.1 -0.1)\">\r\n       <use xlink:href=\"#DejaVuSans-51\"/>\r\n       <use x=\"63.623047\" xlink:href=\"#DejaVuSans-53\"/>\r\n      </g>\r\n     </g>\r\n    </g>\r\n   </g>\r\n   <g id=\"patch_28\">\r\n    <path d=\"M 216.159783 239.758125 \r\nL 216.159783 22.318125 \r\n\" style=\"fill:none;stroke:#000000;stroke-linecap:square;stroke-linejoin:miter;stroke-width:0.8;\"/>\r\n   </g>\r\n   <g id=\"patch_29\">\r\n    <path d=\"M 361.725 239.758125 \r\nL 361.725 22.318125 \r\n\" style=\"fill:none;stroke:#000000;stroke-linecap:square;stroke-linejoin:miter;stroke-width:0.8;\"/>\r\n   </g>\r\n   <g id=\"patch_30\">\r\n    <path d=\"M 216.159783 239.758125 \r\nL 361.725 239.758125 \r\n\" style=\"fill:none;stroke:#000000;stroke-linecap:square;stroke-linejoin:miter;stroke-width:0.8;\"/>\r\n   </g>\r\n   <g id=\"patch_31\">\r\n    <path d=\"M 216.159783 22.318125 \r\nL 361.725 22.318125 \r\n\" style=\"fill:none;stroke:#000000;stroke-linecap:square;stroke-linejoin:miter;stroke-width:0.8;\"/>\r\n   </g>\r\n   <g id=\"text_22\">\r\n    <!-- t2 -->\r\n    <g transform=\"translate(282.772704 16.318125)scale(0.12 -0.12)\">\r\n     <use xlink:href=\"#DejaVuSans-116\"/>\r\n     <use x=\"39.208984\" xlink:href=\"#DejaVuSans-50\"/>\r\n    </g>\r\n   </g>\r\n  </g>\r\n </g>\r\n <defs>\r\n  <clipPath id=\"p0dbf180897\">\r\n   <rect height=\"217.44\" width=\"145.565217\" x=\"26.925\" y=\"22.318125\"/>\r\n  </clipPath>\r\n  <clipPath id=\"pf26508a721\">\r\n   <rect height=\"217.44\" width=\"145.565217\" x=\"216.159783\" y=\"22.318125\"/>\r\n  </clipPath>\r\n </defs>\r\n</svg>\r\n",
      "image/png": "[encoded data removed]"
     },
     "metadata": {
      "needs_background": "light"
     }
    }
   ],
   "source": [
    "timeline.hist()"
   ]
  },
  {
   "cell_type": "code",
   "execution_count": 10,
   "metadata": {},
   "outputs": [
    {
     "output_type": "execute_result",
     "data": {
      "text/plain": "t1    107.875676\nt2     18.240000\ndtype: float64"
     },
     "metadata": {},
     "execution_count": 10
    }
   ],
   "source": [
    "timeline.mean()"
   ]
  },
  {
   "cell_type": "code",
   "execution_count": 11,
   "metadata": {},
   "outputs": [
    {
     "output_type": "execute_result",
     "data": {
      "text/plain": "t1    110.0\nt2     16.0\ndtype: float64"
     },
     "metadata": {},
     "execution_count": 11
    }
   ],
   "source": [
    "timeline.median()"
   ]
  },
  {
   "cell_type": "code",
   "execution_count": 12,
   "metadata": {},
   "outputs": [
    {
     "output_type": "execute_result",
     "data": {
      "text/plain": "          t1        t2\nt1  1.000000 -0.660198\nt2 -0.660198  1.000000",
      "text/html": "<div>\n<style scoped>\n    .dataframe tbody tr th:only-of-type {\n        vertical-align: middle;\n    }\n\n    .dataframe tbody tr th {\n        vertical-align: top;\n    }\n\n    .dataframe thead th {\n        text-align: right;\n    }\n</style>\n<table border=\"1\" class=\"dataframe\">\n  <thead>\n    <tr style=\"text-align: right;\">\n      <th></th>\n      <th>t1</th>\n      <th>t2</th>\n    </tr>\n  </thead>\n  <tbody>\n    <tr>\n      <th>t1</th>\n      <td>1.000000</td>\n      <td>-0.660198</td>\n    </tr>\n    <tr>\n      <th>t2</th>\n      <td>-0.660198</td>\n      <td>1.000000</td>\n    </tr>\n  </tbody>\n</table>\n</div>"
     },
     "metadata": {},
     "execution_count": 12
    }
   ],
   "source": [
    "timeline.corr()"
   ]
  },
  {
   "cell_type": "code",
   "execution_count": 13,
   "metadata": {},
   "outputs": [
    {
     "output_type": "execute_result",
     "data": {
      "text/plain": "                  death  confirmed  discovery   t1    t2\ncountry                                                 \nSouth Africa 2020-03-27 2020-03-05 2019-11-17  109  22.0",
      "text/html": "<div>\n<style scoped>\n    .dataframe tbody tr th:only-of-type {\n        vertical-align: middle;\n    }\n\n    .dataframe tbody tr th {\n        vertical-align: top;\n    }\n\n    .dataframe thead th {\n        text-align: right;\n    }\n</style>\n<table border=\"1\" class=\"dataframe\">\n  <thead>\n    <tr style=\"text-align: right;\">\n      <th></th>\n      <th>death</th>\n      <th>confirmed</th>\n      <th>discovery</th>\n      <th>t1</th>\n      <th>t2</th>\n    </tr>\n    <tr>\n      <th>country</th>\n      <th></th>\n      <th></th>\n      <th></th>\n      <th></th>\n      <th></th>\n    </tr>\n  </thead>\n  <tbody>\n    <tr>\n      <th>South Africa</th>\n      <td>2020-03-27</td>\n      <td>2020-03-05</td>\n      <td>2019-11-17</td>\n      <td>109</td>\n      <td>22.0</td>\n    </tr>\n  </tbody>\n</table>\n</div>"
     },
     "metadata": {},
     "execution_count": 13
    }
   ],
   "source": [
    "timeline.query(\"country == 'South Africa'\")"
   ]
  },
  {
   "cell_type": "code",
   "execution_count": 14,
   "metadata": {},
   "outputs": [
    {
     "output_type": "execute_result",
     "data": {
      "text/plain": "             death  confirmed  discovery  t1    t2\ncountry                                           \nItaly   2020-02-21 2020-01-31 2019-11-17  75  21.0",
      "text/html": "<div>\n<style scoped>\n    .dataframe tbody tr th:only-of-type {\n        vertical-align: middle;\n    }\n\n    .dataframe tbody tr th {\n        vertical-align: top;\n    }\n\n    .dataframe thead th {\n        text-align: right;\n    }\n</style>\n<table border=\"1\" class=\"dataframe\">\n  <thead>\n    <tr style=\"text-align: right;\">\n      <th></th>\n      <th>death</th>\n      <th>confirmed</th>\n      <th>discovery</th>\n      <th>t1</th>\n      <th>t2</th>\n    </tr>\n    <tr>\n      <th>country</th>\n      <th></th>\n      <th></th>\n      <th></th>\n      <th></th>\n      <th></th>\n    </tr>\n  </thead>\n  <tbody>\n    <tr>\n      <th>Italy</th>\n      <td>2020-02-21</td>\n      <td>2020-01-31</td>\n      <td>2019-11-17</td>\n      <td>75</td>\n      <td>21.0</td>\n    </tr>\n  </tbody>\n</table>\n</div>"
     },
     "metadata": {},
     "execution_count": 14
    }
   ],
   "source": [
    "timeline.query(\"country == 'Italy'\")"
   ]
  },
  {
   "cell_type": "code",
   "execution_count": 15,
   "metadata": {},
   "outputs": [
    {
     "output_type": "execute_result",
     "data": {
      "text/plain": "              death  confirmed  discovery   t1   t2\ncountry                                            \nZimbabwe 2020-03-23 2020-03-20 2019-11-17  124  3.0",
      "text/html": "<div>\n<style scoped>\n    .dataframe tbody tr th:only-of-type {\n        vertical-align: middle;\n    }\n\n    .dataframe tbody tr th {\n        vertical-align: top;\n    }\n\n    .dataframe thead th {\n        text-align: right;\n    }\n</style>\n<table border=\"1\" class=\"dataframe\">\n  <thead>\n    <tr style=\"text-align: right;\">\n      <th></th>\n      <th>death</th>\n      <th>confirmed</th>\n      <th>discovery</th>\n      <th>t1</th>\n      <th>t2</th>\n    </tr>\n    <tr>\n      <th>country</th>\n      <th></th>\n      <th></th>\n      <th></th>\n      <th></th>\n      <th></th>\n    </tr>\n  </thead>\n  <tbody>\n    <tr>\n      <th>Zimbabwe</th>\n      <td>2020-03-23</td>\n      <td>2020-03-20</td>\n      <td>2019-11-17</td>\n      <td>124</td>\n      <td>3.0</td>\n    </tr>\n  </tbody>\n</table>\n</div>"
     },
     "metadata": {},
     "execution_count": 15
    }
   ],
   "source": [
    "timeline.query(\"country == 'Zimbabwe'\")"
   ]
  },
  {
   "cell_type": "code",
   "execution_count": 16,
   "metadata": {},
   "outputs": [
    {
     "output_type": "execute_result",
     "data": {
      "text/plain": "count    150.000000\nmean     123.380000\nstd       12.992858\nmin       66.000000\n25%      117.000000\n50%      125.000000\n75%      132.750000\nmax      145.000000\ndtype: float64"
     },
     "metadata": {},
     "execution_count": 16
    }
   ],
   "source": [
    "(timeline.t1+timeline.t2).describe()"
   ]
  },
  {
   "cell_type": "code",
   "execution_count": 17,
   "metadata": {},
   "outputs": [],
   "source": [
    "timeline = timeline[['t1', 't2']].join(data_population)"
   ]
  },
  {
   "cell_type": "code",
   "execution_count": 18,
   "metadata": {},
   "outputs": [
    {
     "output_type": "execute_result",
     "data": {
      "text/plain": "                     t1    t2  Population  Annual_Change  \\\ncountry                                                    \nAfghanistan          99  27.0  38928346.0           2.33   \nAlbania             113   2.0   2877797.0          -0.11   \nAlgeria             100  16.0  43851044.0           1.85   \nAndorra             106  20.0     77265.0           0.16   \nAngola              124   9.0  32866272.0           3.27   \n...                 ...   ...         ...            ...   \nWest Bank and Gaza  109  21.0         NaN            NaN   \nWestern Sahara      140   NaN    597339.0           2.55   \nYemen               145   NaN  29825964.0           2.28   \nZambia              122  15.0  18383955.0           2.93   \nZimbabwe            124   3.0  14862924.0           1.48   \n\n                    Annual_Change_Absolute  Density  Land_Area  Migrants  \\\ncountry                                                                    \nAfghanistan                       886592.0     60.0    65286.0   -6292.0   \nAlbania                             -312.0    105.0      274.0     -14.0   \nAlgeria                            79799.0     18.0  2381740.0     -10.0   \nAndorra                              123.0    164.0      470.0       NaN   \nAngola                           1040977.0     26.0  1246700.0    6413.0   \n...                                    ...      ...        ...       ...   \nWest Bank and Gaza                     NaN      NaN        NaN       NaN   \nWestern Sahara                     14876.0      2.0      266.0    5582.0   \nYemen                             664042.0     56.0    52797.0     -30.0   \nZambia                            522925.0     25.0    74339.0      -8.0   \nZimbabwe                          217456.0     38.0    38685.0 -116858.0   \n\n                    Fert_Rate Median_Age Urban_Population  World_Share  \ncountry                                                                 \nAfghanistan               4.6         18              25          0.50  \nAlbania                   1.6         36              63          0.04  \nAlgeria                   3.1         29              73          0.56  \nAndorra                   NaN       N.A.              88          0.00  \nAngola                    5.6         17              67          0.42  \n...                       ...        ...              ...          ...  \nWest Bank and Gaza        NaN        NaN              NaN          NaN  \nWestern Sahara            2.4         28              87          0.01  \nYemen                     3.8         20              38          0.38  \nZambia                    4.7         18              45          0.24  \nZimbabwe                  3.6         19              38          0.19  \n\n[185 rows x 12 columns]",
      "text/html": "<div>\n<style scoped>\n    .dataframe tbody tr th:only-of-type {\n        vertical-align: middle;\n    }\n\n    .dataframe tbody tr th {\n        vertical-align: top;\n    }\n\n    .dataframe thead th {\n        text-align: right;\n    }\n</style>\n<table border=\"1\" class=\"dataframe\">\n  <thead>\n    <tr style=\"text-align: right;\">\n      <th></th>\n      <th>t1</th>\n      <th>t2</th>\n      <th>Population</th>\n      <th>Annual_Change</th>\n      <th>Annual_Change_Absolute</th>\n      <th>Density</th>\n      <th>Land_Area</th>\n      <th>Migrants</th>\n      <th>Fert_Rate</th>\n      <th>Median_Age</th>\n      <th>Urban_Population</th>\n      <th>World_Share</th>\n    </tr>\n    <tr>\n      <th>country</th>\n      <th></th>\n      <th></th>\n      <th></th>\n      <th></th>\n      <th></th>\n      <th></th>\n      <th></th>\n      <th></th>\n      <th></th>\n      <th></th>\n      <th></th>\n      <th></th>\n    </tr>\n  </thead>\n  <tbody>\n    <tr>\n      <th>Afghanistan</th>\n      <td>99</td>\n      <td>27.0</td>\n      <td>38928346.0</td>\n      <td>2.33</td>\n      <td>886592.0</td>\n      <td>60.0</td>\n      <td>65286.0</td>\n      <td>-6292.0</td>\n      <td>4.6</td>\n      <td>18</td>\n      <td>25</td>\n      <td>0.50</td>\n    </tr>\n    <tr>\n      <th>Albania</th>\n      <td>113</td>\n      <td>2.0</td>\n      <td>2877797.0</td>\n      <td>-0.11</td>\n      <td>-312.0</td>\n      <td>105.0</td>\n      <td>274.0</td>\n      <td>-14.0</td>\n      <td>1.6</td>\n      <td>36</td>\n      <td>63</td>\n      <td>0.04</td>\n    </tr>\n    <tr>\n      <th>Algeria</th>\n      <td>100</td>\n      <td>16.0</td>\n      <td>43851044.0</td>\n      <td>1.85</td>\n      <td>79799.0</td>\n      <td>18.0</td>\n      <td>2381740.0</td>\n      <td>-10.0</td>\n      <td>3.1</td>\n      <td>29</td>\n      <td>73</td>\n      <td>0.56</td>\n    </tr>\n    <tr>\n      <th>Andorra</th>\n      <td>106</td>\n      <td>20.0</td>\n      <td>77265.0</td>\n      <td>0.16</td>\n      <td>123.0</td>\n      <td>164.0</td>\n      <td>470.0</td>\n      <td>NaN</td>\n      <td>NaN</td>\n      <td>N.A.</td>\n      <td>88</td>\n      <td>0.00</td>\n    </tr>\n    <tr>\n      <th>Angola</th>\n      <td>124</td>\n      <td>9.0</td>\n      <td>32866272.0</td>\n      <td>3.27</td>\n      <td>1040977.0</td>\n      <td>26.0</td>\n      <td>1246700.0</td>\n      <td>6413.0</td>\n      <td>5.6</td>\n      <td>17</td>\n      <td>67</td>\n      <td>0.42</td>\n    </tr>\n    <tr>\n      <th>...</th>\n      <td>...</td>\n      <td>...</td>\n      <td>...</td>\n      <td>...</td>\n      <td>...</td>\n      <td>...</td>\n      <td>...</td>\n      <td>...</td>\n      <td>...</td>\n      <td>...</td>\n      <td>...</td>\n      <td>...</td>\n    </tr>\n    <tr>\n      <th>West Bank and Gaza</th>\n      <td>109</td>\n      <td>21.0</td>\n      <td>NaN</td>\n      <td>NaN</td>\n      <td>NaN</td>\n      <td>NaN</td>\n      <td>NaN</td>\n      <td>NaN</td>\n      <td>NaN</td>\n      <td>NaN</td>\n      <td>NaN</td>\n      <td>NaN</td>\n    </tr>\n    <tr>\n      <th>Western Sahara</th>\n      <td>140</td>\n      <td>NaN</td>\n      <td>597339.0</td>\n      <td>2.55</td>\n      <td>14876.0</td>\n      <td>2.0</td>\n      <td>266.0</td>\n      <td>5582.0</td>\n      <td>2.4</td>\n      <td>28</td>\n      <td>87</td>\n      <td>0.01</td>\n    </tr>\n    <tr>\n      <th>Yemen</th>\n      <td>145</td>\n      <td>NaN</td>\n      <td>29825964.0</td>\n      <td>2.28</td>\n      <td>664042.0</td>\n      <td>56.0</td>\n      <td>52797.0</td>\n      <td>-30.0</td>\n      <td>3.8</td>\n      <td>20</td>\n      <td>38</td>\n      <td>0.38</td>\n    </tr>\n    <tr>\n      <th>Zambia</th>\n      <td>122</td>\n      <td>15.0</td>\n      <td>18383955.0</td>\n      <td>2.93</td>\n      <td>522925.0</td>\n      <td>25.0</td>\n      <td>74339.0</td>\n      <td>-8.0</td>\n      <td>4.7</td>\n      <td>18</td>\n      <td>45</td>\n      <td>0.24</td>\n    </tr>\n    <tr>\n      <th>Zimbabwe</th>\n      <td>124</td>\n      <td>3.0</td>\n      <td>14862924.0</td>\n      <td>1.48</td>\n      <td>217456.0</td>\n      <td>38.0</td>\n      <td>38685.0</td>\n      <td>-116858.0</td>\n      <td>3.6</td>\n      <td>19</td>\n      <td>38</td>\n      <td>0.19</td>\n    </tr>\n  </tbody>\n</table>\n<p>185 rows × 12 columns</p>\n</div>"
     },
     "metadata": {},
     "execution_count": 18
    }
   ],
   "source": [
    "timeline"
   ]
  },
  {
   "cell_type": "code",
   "execution_count": 19,
   "metadata": {},
   "outputs": [
    {
     "output_type": "execute_result",
     "data": {
      "text/plain": "              t1    t2    Population  Annual_Change  Annual_Change_Absolute  \\\ncountry                                                                       \nChina         66   0.0  1.439324e+09           0.39               5540090.0   \nJapan         66  22.0  1.264765e+08          -0.30                -38384.0   \nKorea, South  66  29.0  5.126918e+07           0.09                 43877.0   \nTaiwan*       66  25.0           NaN            NaN                     NaN   \nThailand      66  39.0  6.979998e+07           0.25                174396.0   \nUS            66  38.0  3.310027e+08           0.59               1937734.0   \n\n              Density  Land_Area  Migrants  Fert_Rate Median_Age  \\\ncountry                                                            \nChina           153.0  9388211.0 -348399.0        1.7         38   \nJapan           347.0   364555.0    7156.0        1.4         48   \nKorea, South    527.0     9723.0   11731.0        1.1         44   \nTaiwan*           NaN        NaN       NaN        NaN        NaN   \nThailand        137.0    51089.0   19444.0        1.5         40   \nUS               36.0  9147420.0  954806.0        1.8         38   \n\n             Urban_Population  World_Share  \ncountry                                     \nChina                     61         18.47  \nJapan                     92          1.62  \nKorea, South              82          0.66  \nTaiwan*                   NaN          NaN  \nThailand                  51          0.90  \nUS                        83          4.25  ",
      "text/html": "<div>\n<style scoped>\n    .dataframe tbody tr th:only-of-type {\n        vertical-align: middle;\n    }\n\n    .dataframe tbody tr th {\n        vertical-align: top;\n    }\n\n    .dataframe thead th {\n        text-align: right;\n    }\n</style>\n<table border=\"1\" class=\"dataframe\">\n  <thead>\n    <tr style=\"text-align: right;\">\n      <th></th>\n      <th>t1</th>\n      <th>t2</th>\n      <th>Population</th>\n      <th>Annual_Change</th>\n      <th>Annual_Change_Absolute</th>\n      <th>Density</th>\n      <th>Land_Area</th>\n      <th>Migrants</th>\n      <th>Fert_Rate</th>\n      <th>Median_Age</th>\n      <th>Urban_Population</th>\n      <th>World_Share</th>\n    </tr>\n    <tr>\n      <th>country</th>\n      <th></th>\n      <th></th>\n      <th></th>\n      <th></th>\n      <th></th>\n      <th></th>\n      <th></th>\n      <th></th>\n      <th></th>\n      <th></th>\n      <th></th>\n      <th></th>\n    </tr>\n  </thead>\n  <tbody>\n    <tr>\n      <th>China</th>\n      <td>66</td>\n      <td>0.0</td>\n      <td>1.439324e+09</td>\n      <td>0.39</td>\n      <td>5540090.0</td>\n      <td>153.0</td>\n      <td>9388211.0</td>\n      <td>-348399.0</td>\n      <td>1.7</td>\n      <td>38</td>\n      <td>61</td>\n      <td>18.47</td>\n    </tr>\n    <tr>\n      <th>Japan</th>\n      <td>66</td>\n      <td>22.0</td>\n      <td>1.264765e+08</td>\n      <td>-0.30</td>\n      <td>-38384.0</td>\n      <td>347.0</td>\n      <td>364555.0</td>\n      <td>7156.0</td>\n      <td>1.4</td>\n      <td>48</td>\n      <td>92</td>\n      <td>1.62</td>\n    </tr>\n    <tr>\n      <th>Korea, South</th>\n      <td>66</td>\n      <td>29.0</td>\n      <td>5.126918e+07</td>\n      <td>0.09</td>\n      <td>43877.0</td>\n      <td>527.0</td>\n      <td>9723.0</td>\n      <td>11731.0</td>\n      <td>1.1</td>\n      <td>44</td>\n      <td>82</td>\n      <td>0.66</td>\n    </tr>\n    <tr>\n      <th>Taiwan*</th>\n      <td>66</td>\n      <td>25.0</td>\n      <td>NaN</td>\n      <td>NaN</td>\n      <td>NaN</td>\n      <td>NaN</td>\n      <td>NaN</td>\n      <td>NaN</td>\n      <td>NaN</td>\n      <td>NaN</td>\n      <td>NaN</td>\n      <td>NaN</td>\n    </tr>\n    <tr>\n      <th>Thailand</th>\n      <td>66</td>\n      <td>39.0</td>\n      <td>6.979998e+07</td>\n      <td>0.25</td>\n      <td>174396.0</td>\n      <td>137.0</td>\n      <td>51089.0</td>\n      <td>19444.0</td>\n      <td>1.5</td>\n      <td>40</td>\n      <td>51</td>\n      <td>0.90</td>\n    </tr>\n    <tr>\n      <th>US</th>\n      <td>66</td>\n      <td>38.0</td>\n      <td>3.310027e+08</td>\n      <td>0.59</td>\n      <td>1937734.0</td>\n      <td>36.0</td>\n      <td>9147420.0</td>\n      <td>954806.0</td>\n      <td>1.8</td>\n      <td>38</td>\n      <td>83</td>\n      <td>4.25</td>\n    </tr>\n  </tbody>\n</table>\n</div>"
     },
     "metadata": {},
     "execution_count": 19
    }
   ],
   "source": [
    "timeline.query(\"t1 == 66\")"
   ]
  },
  {
   "cell_type": "code",
   "execution_count": 20,
   "metadata": {},
   "outputs": [],
   "source": [
    "flight_data = pd.read_csv(\"https://raw.githubusercontent.com/willkhoza/COVID_SA/master/wikipedia/countries%20by%20airline%20passengers.csv\")"
   ]
  },
  {
   "cell_type": "code",
   "execution_count": 21,
   "metadata": {},
   "outputs": [],
   "source": [
    "flight_data = flight_data.set_index(\"Country\")"
   ]
  },
  {
   "cell_type": "code",
   "execution_count": 22,
   "metadata": {},
   "outputs": [
    {
     "output_type": "execute_result",
     "data": {
      "text/plain": "                     t1    t2  Population  Annual_Change  \\\ncountry                                                    \nAfghanistan          99  27.0  38928346.0           2.33   \nAlbania             113   2.0   2877797.0          -0.11   \nAlgeria             100  16.0  43851044.0           1.85   \nAndorra             106  20.0     77265.0           0.16   \nAngola              124   9.0  32866272.0           3.27   \n...                 ...   ...         ...            ...   \nWest Bank and Gaza  109  21.0         NaN            NaN   \nWestern Sahara      140   NaN    597339.0           2.55   \nYemen               145   NaN  29825964.0           2.28   \nZambia              122  15.0  18383955.0           2.93   \nZimbabwe            124   3.0  14862924.0           1.48   \n\n                    Annual_Change_Absolute  Density  Land_Area  Migrants  \\\ncountry                                                                    \nAfghanistan                       886592.0     60.0    65286.0   -6292.0   \nAlbania                             -312.0    105.0      274.0     -14.0   \nAlgeria                            79799.0     18.0  2381740.0     -10.0   \nAndorra                              123.0    164.0      470.0       NaN   \nAngola                           1040977.0     26.0  1246700.0    6413.0   \n...                                    ...      ...        ...       ...   \nWest Bank and Gaza                     NaN      NaN        NaN       NaN   \nWestern Sahara                     14876.0      2.0      266.0    5582.0   \nYemen                             664042.0     56.0    52797.0     -30.0   \nZambia                            522925.0     25.0    74339.0      -8.0   \nZimbabwe                          217456.0     38.0    38685.0 -116858.0   \n\n                    Fert_Rate Median_Age Urban_Population  World_Share  \\\ncountry                                                                  \nAfghanistan               4.6         18              25          0.50   \nAlbania                   1.6         36              63          0.04   \nAlgeria                   3.1         29              73          0.56   \nAndorra                   NaN       N.A.              88          0.00   \nAngola                    5.6         17              67          0.42   \n...                       ...        ...              ...          ...   \nWest Bank and Gaza        NaN        NaN              NaN          NaN   \nWestern Sahara            2.4         28              87          0.01   \nYemen                     3.8         20              38          0.38   \nZambia                    4.7         18              45          0.24   \nZimbabwe                  3.6         19              38          0.19   \n\n                    Passengers  \ncountry                         \nAfghanistan          1858560.0  \nAlbania                10315.0  \nAlgeria              6241920.0  \nAndorra                    NaN  \nAngola               1581200.0  \n...                        ...  \nWest Bank and Gaza         NaN  \nWestern Sahara             NaN  \nYemen                  13257.0  \nZambia                 15457.0  \nZimbabwe               28254.0  \n\n[185 rows x 13 columns]",
      "text/html": "<div>\n<style scoped>\n    .dataframe tbody tr th:only-of-type {\n        vertical-align: middle;\n    }\n\n    .dataframe tbody tr th {\n        vertical-align: top;\n    }\n\n    .dataframe thead th {\n        text-align: right;\n    }\n</style>\n<table border=\"1\" class=\"dataframe\">\n  <thead>\n    <tr style=\"text-align: right;\">\n      <th></th>\n      <th>t1</th>\n      <th>t2</th>\n      <th>Population</th>\n      <th>Annual_Change</th>\n      <th>Annual_Change_Absolute</th>\n      <th>Density</th>\n      <th>Land_Area</th>\n      <th>Migrants</th>\n      <th>Fert_Rate</th>\n      <th>Median_Age</th>\n      <th>Urban_Population</th>\n      <th>World_Share</th>\n      <th>Passengers</th>\n    </tr>\n    <tr>\n      <th>country</th>\n      <th></th>\n      <th></th>\n      <th></th>\n      <th></th>\n      <th></th>\n      <th></th>\n      <th></th>\n      <th></th>\n      <th></th>\n      <th></th>\n      <th></th>\n      <th></th>\n      <th></th>\n    </tr>\n  </thead>\n  <tbody>\n    <tr>\n      <th>Afghanistan</th>\n      <td>99</td>\n      <td>27.0</td>\n      <td>38928346.0</td>\n      <td>2.33</td>\n      <td>886592.0</td>\n      <td>60.0</td>\n      <td>65286.0</td>\n      <td>-6292.0</td>\n      <td>4.6</td>\n      <td>18</td>\n      <td>25</td>\n      <td>0.50</td>\n      <td>1858560.0</td>\n    </tr>\n    <tr>\n      <th>Albania</th>\n      <td>113</td>\n      <td>2.0</td>\n      <td>2877797.0</td>\n      <td>-0.11</td>\n      <td>-312.0</td>\n      <td>105.0</td>\n      <td>274.0</td>\n      <td>-14.0</td>\n      <td>1.6</td>\n      <td>36</td>\n      <td>63</td>\n      <td>0.04</td>\n      <td>10315.0</td>\n    </tr>\n    <tr>\n      <th>Algeria</th>\n      <td>100</td>\n      <td>16.0</td>\n      <td>43851044.0</td>\n      <td>1.85</td>\n      <td>79799.0</td>\n      <td>18.0</td>\n      <td>2381740.0</td>\n      <td>-10.0</td>\n      <td>3.1</td>\n      <td>29</td>\n      <td>73</td>\n      <td>0.56</td>\n      <td>6241920.0</td>\n    </tr>\n    <tr>\n      <th>Andorra</th>\n      <td>106</td>\n      <td>20.0</td>\n      <td>77265.0</td>\n      <td>0.16</td>\n      <td>123.0</td>\n      <td>164.0</td>\n      <td>470.0</td>\n      <td>NaN</td>\n      <td>NaN</td>\n      <td>N.A.</td>\n      <td>88</td>\n      <td>0.00</td>\n      <td>NaN</td>\n    </tr>\n    <tr>\n      <th>Angola</th>\n      <td>124</td>\n      <td>9.0</td>\n      <td>32866272.0</td>\n      <td>3.27</td>\n      <td>1040977.0</td>\n      <td>26.0</td>\n      <td>1246700.0</td>\n      <td>6413.0</td>\n      <td>5.6</td>\n      <td>17</td>\n      <td>67</td>\n      <td>0.42</td>\n      <td>1581200.0</td>\n    </tr>\n    <tr>\n      <th>...</th>\n      <td>...</td>\n      <td>...</td>\n      <td>...</td>\n      <td>...</td>\n      <td>...</td>\n      <td>...</td>\n      <td>...</td>\n      <td>...</td>\n      <td>...</td>\n      <td>...</td>\n      <td>...</td>\n      <td>...</td>\n      <td>...</td>\n    </tr>\n    <tr>\n      <th>West Bank and Gaza</th>\n      <td>109</td>\n      <td>21.0</td>\n      <td>NaN</td>\n      <td>NaN</td>\n      <td>NaN</td>\n      <td>NaN</td>\n      <td>NaN</td>\n      <td>NaN</td>\n      <td>NaN</td>\n      <td>NaN</td>\n      <td>NaN</td>\n      <td>NaN</td>\n      <td>NaN</td>\n    </tr>\n    <tr>\n      <th>Western Sahara</th>\n      <td>140</td>\n      <td>NaN</td>\n      <td>597339.0</td>\n      <td>2.55</td>\n      <td>14876.0</td>\n      <td>2.0</td>\n      <td>266.0</td>\n      <td>5582.0</td>\n      <td>2.4</td>\n      <td>28</td>\n      <td>87</td>\n      <td>0.01</td>\n      <td>NaN</td>\n    </tr>\n    <tr>\n      <th>Yemen</th>\n      <td>145</td>\n      <td>NaN</td>\n      <td>29825964.0</td>\n      <td>2.28</td>\n      <td>664042.0</td>\n      <td>56.0</td>\n      <td>52797.0</td>\n      <td>-30.0</td>\n      <td>3.8</td>\n      <td>20</td>\n      <td>38</td>\n      <td>0.38</td>\n      <td>13257.0</td>\n    </tr>\n    <tr>\n      <th>Zambia</th>\n      <td>122</td>\n      <td>15.0</td>\n      <td>18383955.0</td>\n      <td>2.93</td>\n      <td>522925.0</td>\n      <td>25.0</td>\n      <td>74339.0</td>\n      <td>-8.0</td>\n      <td>4.7</td>\n      <td>18</td>\n      <td>45</td>\n      <td>0.24</td>\n      <td>15457.0</td>\n    </tr>\n    <tr>\n      <th>Zimbabwe</th>\n      <td>124</td>\n      <td>3.0</td>\n      <td>14862924.0</td>\n      <td>1.48</td>\n      <td>217456.0</td>\n      <td>38.0</td>\n      <td>38685.0</td>\n      <td>-116858.0</td>\n      <td>3.6</td>\n      <td>19</td>\n      <td>38</td>\n      <td>0.19</td>\n      <td>28254.0</td>\n    </tr>\n  </tbody>\n</table>\n<p>185 rows × 13 columns</p>\n</div>"
     },
     "metadata": {},
     "execution_count": 22
    }
   ],
   "source": [
    "timeline.join(flight_data)"
   ]
  },
  {
   "cell_type": "code",
   "execution_count": 23,
   "metadata": {},
   "outputs": [],
   "source": [
    "timeline.join(flight_data).to_csv('timeline.csv')\n",
    ""
   ]
  },
  {
   "cell_type": "code",
   "execution_count": 24,
   "metadata": {},
   "outputs": [
    {
     "output_type": "execute_result",
     "data": {
      "text/plain": "Index(['Population', 'Annual_Change', 'Annual_Change_Absolute', 'Density',\n       'Land_Area', 'Migrants', 'Fert_Rate', 'Median_Age', 'Urban_Population',\n       'World_Share'],\n      dtype='object')"
     },
     "metadata": {},
     "execution_count": 24
    }
   ],
   "source": [
    "data_population.columns"
   ]
  },
  {
   "cell_type": "code",
   "execution_count": null,
   "metadata": {},
   "outputs": [],
   "source": []
  }
 ]
}