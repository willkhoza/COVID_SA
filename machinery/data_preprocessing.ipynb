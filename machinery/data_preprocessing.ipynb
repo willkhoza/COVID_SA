{
 "nbformat": 4,
 "nbformat_minor": 2,
 "metadata": {
  "language_info": {
   "name": "python",
   "codemirror_mode": {
    "name": "ipython",
    "version": 3
   },
   "version": "3.7.3-final"
  },
  "orig_nbformat": 2,
  "file_extension": ".py",
  "mimetype": "text/x-python",
  "name": "python",
  "npconvert_exporter": "python",
  "pygments_lexer": "ipython3",
  "version": 3,
  "kernelspec": {
   "name": "python3",
   "display_name": "Python 3"
  }
 },
 "cells": [
  {
   "cell_type": "code",
   "execution_count": 1,
   "metadata": {},
   "outputs": [],
   "source": [
    "from covid19 import get_death_data\n",
    "from covid19 import get_confirm_data\n",
    "from covid19 import get_recovery_data\n",
    "from covid19 import get_population_data"
   ]
  },
  {
   "cell_type": "code",
   "execution_count": 2,
   "metadata": {},
   "outputs": [],
   "source": [
    "import pandas as pd\n",
    "from datetime import datetime\n",
    "from datetime import date"
   ]
  },
  {
   "cell_type": "code",
   "execution_count": 3,
   "metadata": {},
   "outputs": [],
   "source": [
    "data_deaths = get_death_data()\n",
    "data_confirmed = get_confirm_data()\n",
    "data_population = get_population_data()"
   ]
  },
  {
   "cell_type": "code",
   "execution_count": 4,
   "metadata": {},
   "outputs": [],
   "source": [
    "def get_first_dt(dat, out_name):\n",
    "    out_data = []\n",
    "    for country in dat.T:\n",
    "        try:\n",
    "            dt = (dat.T[dat.T[country]>0]).index[0]\n",
    "            dt = datetime.strptime(dt, \"%m/%d/%y\")\n",
    "        except:\n",
    "            dt = None\n",
    "        out_data.append([country, dt])\n",
    "    out_data = pd.DataFrame(out_data)\n",
    "    out_data.columns = ['country', out_name]\n",
    "    out_data.set_index('country', inplace = True)\n",
    "    return out_data"
   ]
  },
  {
   "cell_type": "code",
   "execution_count": 5,
   "metadata": {
    "tags": [
     "outputPrepend",
     "outputPrepend",
     "outputPrepend",
     "outputPrepend",
     "outputPrepend"
    ]
   },
   "outputs": [],
   "source": [
    "timeline = get_first_dt(data_deaths, 'death').join(get_first_dt(data_confirmed, 'confirmed'))\n",
    "timeline[\"discovery\"] = datetime.strptime(\"11/17/19\", \"%m/%d/%y\")"
   ]
  },
  {
   "cell_type": "code",
   "execution_count": 6,
   "metadata": {},
   "outputs": [],
   "source": [
    "timeline['t1'] = (timeline[\"confirmed\"] - timeline[\"discovery\"]).apply(lambda x: x.days)\n",
    "timeline['t2'] = (timeline[\"death\"] - timeline[\"confirmed\"]).apply(lambda x: x.days)"
   ]
  },
  {
   "cell_type": "code",
   "execution_count": 7,
   "metadata": {},
   "outputs": [
    {
     "output_type": "execute_result",
     "data": {
      "text/plain": "array([[<matplotlib.axes._subplots.AxesSubplot object at 0x7fdb16c54588>,\n        <matplotlib.axes._subplots.AxesSubplot object at 0x7fdb15f4df60>]],\n      dtype=object)"
     },
     "metadata": {},
     "execution_count": 7
    }
   ],
   "source": [
    "timeline.hist()"
   ]
  },
  {
   "cell_type": "code",
   "execution_count": 8,
   "metadata": {},
   "outputs": [
    {
     "output_type": "execute_result",
     "data": {
      "text/plain": "t1    106.651685\nt2     17.743802\ndtype: float64"
     },
     "metadata": {},
     "execution_count": 8
    }
   ],
   "source": [
    "timeline.mean()"
   ]
  },
  {
   "cell_type": "code",
   "execution_count": 9,
   "metadata": {},
   "outputs": [
    {
     "output_type": "execute_result",
     "data": {
      "text/plain": "t1    110.0\nt2     15.0\ndtype: float64"
     },
     "metadata": {},
     "execution_count": 9
    }
   ],
   "source": [
    "timeline.median()"
   ]
  },
  {
   "cell_type": "code",
   "execution_count": 10,
   "metadata": {},
   "outputs": [
    {
     "output_type": "execute_result",
     "data": {
      "text/plain": "         t1       t2\nt1  1.00000 -0.72467\nt2 -0.72467  1.00000",
      "text/html": "<div>\n<style scoped>\n    .dataframe tbody tr th:only-of-type {\n        vertical-align: middle;\n    }\n\n    .dataframe tbody tr th {\n        vertical-align: top;\n    }\n\n    .dataframe thead th {\n        text-align: right;\n    }\n</style>\n<table border=\"1\" class=\"dataframe\">\n  <thead>\n    <tr style=\"text-align: right;\">\n      <th></th>\n      <th>t1</th>\n      <th>t2</th>\n    </tr>\n  </thead>\n  <tbody>\n    <tr>\n      <th>t1</th>\n      <td>1.00000</td>\n      <td>-0.72467</td>\n    </tr>\n    <tr>\n      <th>t2</th>\n      <td>-0.72467</td>\n      <td>1.00000</td>\n    </tr>\n  </tbody>\n</table>\n</div>"
     },
     "metadata": {},
     "execution_count": 10
    }
   ],
   "source": [
    "timeline.corr()"
   ]
  },
  {
   "cell_type": "code",
   "execution_count": 11,
   "metadata": {},
   "outputs": [
    {
     "output_type": "execute_result",
     "data": {
      "text/plain": "                  death  confirmed  discovery   t1    t2\ncountry                                                 \nSouth Africa 2020-03-27 2020-03-05 2019-11-17  109  22.0",
      "text/html": "<div>\n<style scoped>\n    .dataframe tbody tr th:only-of-type {\n        vertical-align: middle;\n    }\n\n    .dataframe tbody tr th {\n        vertical-align: top;\n    }\n\n    .dataframe thead th {\n        text-align: right;\n    }\n</style>\n<table border=\"1\" class=\"dataframe\">\n  <thead>\n    <tr style=\"text-align: right;\">\n      <th></th>\n      <th>death</th>\n      <th>confirmed</th>\n      <th>discovery</th>\n      <th>t1</th>\n      <th>t2</th>\n    </tr>\n    <tr>\n      <th>country</th>\n      <th></th>\n      <th></th>\n      <th></th>\n      <th></th>\n      <th></th>\n    </tr>\n  </thead>\n  <tbody>\n    <tr>\n      <th>South Africa</th>\n      <td>2020-03-27</td>\n      <td>2020-03-05</td>\n      <td>2019-11-17</td>\n      <td>109</td>\n      <td>22.0</td>\n    </tr>\n  </tbody>\n</table>\n</div>"
     },
     "metadata": {},
     "execution_count": 11
    }
   ],
   "source": [
    "timeline.query(\"country == 'South Africa'\")"
   ]
  },
  {
   "cell_type": "code",
   "execution_count": 12,
   "metadata": {},
   "outputs": [
    {
     "output_type": "execute_result",
     "data": {
      "text/plain": "             death  confirmed  discovery  t1    t2\ncountry                                           \nItaly   2020-02-21 2020-01-31 2019-11-17  75  21.0",
      "text/html": "<div>\n<style scoped>\n    .dataframe tbody tr th:only-of-type {\n        vertical-align: middle;\n    }\n\n    .dataframe tbody tr th {\n        vertical-align: top;\n    }\n\n    .dataframe thead th {\n        text-align: right;\n    }\n</style>\n<table border=\"1\" class=\"dataframe\">\n  <thead>\n    <tr style=\"text-align: right;\">\n      <th></th>\n      <th>death</th>\n      <th>confirmed</th>\n      <th>discovery</th>\n      <th>t1</th>\n      <th>t2</th>\n    </tr>\n    <tr>\n      <th>country</th>\n      <th></th>\n      <th></th>\n      <th></th>\n      <th></th>\n      <th></th>\n    </tr>\n  </thead>\n  <tbody>\n    <tr>\n      <th>Italy</th>\n      <td>2020-02-21</td>\n      <td>2020-01-31</td>\n      <td>2019-11-17</td>\n      <td>75</td>\n      <td>21.0</td>\n    </tr>\n  </tbody>\n</table>\n</div>"
     },
     "metadata": {},
     "execution_count": 12
    }
   ],
   "source": [
    "timeline.query(\"country == 'Italy'\")"
   ]
  },
  {
   "cell_type": "code",
   "execution_count": 13,
   "metadata": {},
   "outputs": [
    {
     "output_type": "execute_result",
     "data": {
      "text/plain": "              death  confirmed  discovery   t1   t2\ncountry                                            \nZimbabwe 2020-03-23 2020-03-20 2019-11-17  124  3.0",
      "text/html": "<div>\n<style scoped>\n    .dataframe tbody tr th:only-of-type {\n        vertical-align: middle;\n    }\n\n    .dataframe tbody tr th {\n        vertical-align: top;\n    }\n\n    .dataframe thead th {\n        text-align: right;\n    }\n</style>\n<table border=\"1\" class=\"dataframe\">\n  <thead>\n    <tr style=\"text-align: right;\">\n      <th></th>\n      <th>death</th>\n      <th>confirmed</th>\n      <th>discovery</th>\n      <th>t1</th>\n      <th>t2</th>\n    </tr>\n    <tr>\n      <th>country</th>\n      <th></th>\n      <th></th>\n      <th></th>\n      <th></th>\n      <th></th>\n    </tr>\n  </thead>\n  <tbody>\n    <tr>\n      <th>Zimbabwe</th>\n      <td>2020-03-23</td>\n      <td>2020-03-20</td>\n      <td>2019-11-17</td>\n      <td>124</td>\n      <td>3.0</td>\n    </tr>\n  </tbody>\n</table>\n</div>"
     },
     "metadata": {},
     "execution_count": 13
    }
   ],
   "source": [
    "timeline.query(\"country == 'Zimbabwe'\")"
   ]
  },
  {
   "cell_type": "code",
   "execution_count": 14,
   "metadata": {},
   "outputs": [
    {
     "output_type": "execute_result",
     "data": {
      "text/plain": "count    121.000000\nmean     119.760331\nstd       11.806089\nmin       66.000000\n25%      115.000000\n50%      123.000000\n75%      127.000000\nmax      134.000000\ndtype: float64"
     },
     "metadata": {},
     "execution_count": 14
    }
   ],
   "source": [
    "(timeline.t1+timeline.t2).describe()"
   ]
  },
  {
   "cell_type": "code",
   "execution_count": 15,
   "metadata": {},
   "outputs": [],
   "source": [
    "timeline = timeline[['t1', 't2']].join(data_population)"
   ]
  },
  {
   "cell_type": "code",
   "execution_count": 16,
   "metadata": {},
   "outputs": [
    {
     "output_type": "error",
     "ename": "SyntaxError",
     "evalue": "invalid syntax (<ipython-input-16-8e296c4e4f0a>, line 1)",
     "traceback": [
      "\u001b[0;36m  File \u001b[0;32m\"<ipython-input-16-8e296c4e4f0a>\"\u001b[0;36m, line \u001b[0;32m1\u001b[0m\n\u001b[0;31m    timeline['Annual_Change'] = timeline.\u001b[0m\n\u001b[0m                                         ^\u001b[0m\n\u001b[0;31mSyntaxError\u001b[0m\u001b[0;31m:\u001b[0m invalid syntax\n"
     ]
    }
   ],
   "source": [
    "timeline['Annual_Change'] = timeline.\n",
    "Annual_Change.str.replace(\"%\", \"\").astype(float)\n",
    "Urban_Population.str.replace(\"%\", \"\").astype(float)\n",
    "World_Share.str.replace(\"%\", \"\").astype(float)"
   ]
  },
  {
   "cell_type": "code",
   "execution_count": 17,
   "metadata": {},
   "outputs": [
    {
     "output_type": "execute_result",
     "data": {
      "text/plain": "                         t1    t2   Population  Annual_Change  \\\ncountry                                                         \nAfghanistan              99  27.0   38928346.0           2.33   \nAlbania                 113   2.0    2877797.0          -0.11   \nAlgeria                 100  16.0   43851044.0           1.85   \nAndorra                 106  20.0      77265.0           0.16   \nAngola                  124   9.0   32866272.0           3.27   \nAntigua and Barbuda     117   NaN      97929.0           0.84   \nArgentina               107   5.0   45195774.0           0.93   \nArmenia                 105  25.0    2963243.0           0.19   \nAustralia                70  35.0   25499884.0           1.18   \nAustria                 100  16.0    9006398.0           0.57   \nAzerbaijan              105  12.0   10139177.0           0.91   \nBahamas                 120   NaN     393244.0           0.97   \nBahrain                  99  21.0    1701575.0           3.68   \nBangladesh              112  10.0  164689383.0           1.01   \nBarbados                121   NaN     287375.0           0.12   \nBelarus                 103   NaN    9449323.0          -0.03   \nBelgium                  79  36.0   11589623.0           0.44   \nBelize                  127   NaN     397628.0           1.86   \nBenin                   120   NaN   12123200.0           2.73   \nBhutan                  110   NaN     771608.0           1.12   \nBolivia                 115  18.0   11673021.0           1.39   \nBosnia and Herzegovina  109  16.0    3280819.0          -0.61   \nBotswana                134   NaN    2351627.0           2.08   \nBrazil                  101  20.0  212559417.0           0.72   \nBrunei                  113  19.0     437479.0           0.97   \nBulgaria                112   3.0    6948445.0          -0.74   \nBurkina Faso            114   8.0   20903273.0           2.86   \nBurma                   131   NaN   54409800.0           0.67   \nCabo Verde              124   4.0     555987.0           1.10   \nCambodia                 71   NaN   16718965.0           1.41   \n...                     ...   ...          ...            ...   \nSlovenia                109   9.0    2078938.0           0.01   \nSomalia                 120   NaN   15893222.0           2.92   \nSouth Africa            109  22.0   59308690.0           1.28   \nSpain                    76  31.0   46754778.0           0.04   \nSri Lanka                71  61.0   21413249.0           0.42   \nSudan                   117   0.0   43849260.0           2.42   \nSuriname                118   NaN     586632.0           0.90   \nSweden                   75  40.0   10099265.0           0.63   \nSwitzerland             100   9.0    8654622.0           0.74   \nSyria                   126   7.0   17500658.0           2.52   \nTaiwan*                  66  25.0          NaN            NaN   \nTanzania                120   NaN   59734218.0           2.98   \nThailand                 66  39.0   69799978.0           0.25   \nTimor-Leste             126   NaN    1318445.0           1.96   \nTogo                    110  21.0    8278724.0           2.43   \nTrinidad and Tobago     118  11.0    1399488.0           0.32   \nTunisia                 108  15.0   11818619.0           1.06   \nTurkey                  115   6.0   84339067.0           1.09   \nUS                       66  38.0  331002651.0           0.59   \nUganda                  125   NaN   45741007.0           3.32   \nUkraine                 107  10.0   43733762.0          -0.59   \nUnited Arab Emirates     73  51.0    9890402.0           1.23   \nUnited Kingdom           75  34.0   67886011.0           0.53   \nUruguay                 118  15.0    3473730.0           0.35   \nUzbekistan              119  12.0   33469203.0           1.48   \nVenezuela               118  13.0   28435940.0          -0.28   \nVietnam                  67   NaN   97338579.0           0.91   \nWest Bank and Gaza      109  21.0          NaN            NaN   \nZambia                  122   NaN   18383955.0           2.93   \nZimbabwe                124   3.0   14862924.0           1.48   \n\n                        Annual_Change_Absolute  Density  Land_Area  Migrants  \\\ncountry                                                                        \nAfghanistan                           886592.0     60.0    65286.0   -6292.0   \nAlbania                                 -312.0    105.0      274.0     -14.0   \nAlgeria                                79799.0     18.0  2381740.0     -10.0   \nAndorra                                  123.0    164.0      470.0       NaN   \nAngola                               1040977.0     26.0  1246700.0    6413.0   \nAntigua and Barbuda                      811.0    223.0      440.0       0.0   \nArgentina                             415097.0     17.0  2736690.0      48.0   \nArmenia                                 5512.0    104.0     2847.0   -4998.0   \nAustralia                             296686.0      3.0  7682300.0  158246.0   \nAustria                                51296.0    109.0    82409.0      65.0   \nAzerbaijan                             91459.0    123.0    82658.0      12.0   \nBahamas                                 3762.0     39.0     1001.0       1.0   \nBahrain                                60403.0   2239.0      760.0     478.0   \nBangladesh                           1643222.0   1265.0    13017.0 -369501.0   \nBarbados                                 350.0    668.0      430.0     -79.0   \nBelarus                                -3088.0     47.0    20291.0     873.0   \nBelgium                                50295.0    383.0     3028.0      48.0   \nBelize                                  7275.0     17.0     2281.0      12.0   \nBenin                                 322049.0    108.0    11276.0      -2.0   \nBhutan                                  8516.0     20.0    38117.0     320.0   \nBolivia                               159921.0     11.0  1083300.0   -9504.0   \nBosnia and Herzegovina                -20181.0     64.0       51.0  -21585.0   \nBotswana                                4793.0      4.0    56673.0       3.0   \nBrazil                               1509890.0     25.0  8358140.0     212.0   \nBrunei                                  4194.0     83.0      527.0       0.0   \nBulgaria                              -51674.0     64.0    10856.0     -48.0   \nBurkina Faso                          581895.0     76.0     2736.0     -25.0   \nBurma                                  36438.0     83.0    65329.0 -163313.0   \nCabo Verde                              6052.0    138.0      403.0   -1342.0   \nCambodia                              232423.0     95.0    17652.0     -30.0   \n...                                        ...      ...        ...       ...   \nSlovenia                                 284.0    103.0     2014.0       2.0   \nSomalia                               450317.0     25.0    62734.0     -40.0   \nSouth Africa                           75042.0     49.0  1213090.0  145405.0   \nSpain                                  18002.0     94.0     4988.0      40.0   \nSri Lanka                              89516.0    341.0     6271.0  -97986.0   \nSudan                                1036022.0     25.0  1765048.0     -50.0   \nSuriname                                 526.0      4.0      156.0      -1.0   \nSweden                                 62886.0     25.0    41034.0      40.0   \nSwitzerland                            63257.0    219.0    39516.0      52.0   \nSyria                                 430523.0     95.0    18363.0 -427391.0   \nTaiwan*                                    NaN      NaN        NaN       NaN   \nTanzania                             1728755.0     67.0     8858.0  -40076.0   \nThailand                              174396.0    137.0    51089.0   19444.0   \nTimor-Leste                            25326.0     89.0     1487.0   -5385.0   \nTogo                                  196358.0    152.0     5439.0      -2.0   \nTrinidad and Tobago                     4515.0    273.0      513.0    -800.0   \nTunisia                                 1239.0     76.0    15536.0      -4.0   \nTurkey                                909452.0    110.0    76963.0  283922.0   \nUS                                   1937734.0     36.0  9147420.0  954806.0   \nUganda                               1471413.0    229.0    19981.0  168694.0   \nUkraine                              -259876.0     75.0    57932.0      10.0   \nUnited Arab Emirates                  119873.0    118.0      836.0      40.0   \nUnited Kingdom                        355839.0    281.0    24193.0   26065.0   \nUruguay                                11996.0     20.0    17502.0      -3.0   \nUzbekistan                            487487.0     79.0     4254.0   -8863.0   \nVenezuela                             -79889.0     32.0    88205.0 -653249.0   \nVietnam                               876473.0    314.0    31007.0     -80.0   \nWest Bank and Gaza                         NaN      NaN        NaN       NaN   \nZambia                                522925.0     25.0    74339.0      -8.0   \nZimbabwe                              217456.0     38.0    38685.0 -116858.0   \n\n                        Fert_Rate Median_Age Urban_Population  World_Share  \ncountry                                                                     \nAfghanistan                   4.6         18              25          0.50  \nAlbania                       1.6         36              63          0.04  \nAlgeria                       3.1         29              73          0.56  \nAndorra                       NaN       N.A.              88          0.00  \nAngola                        5.6         17              67          0.42  \nAntigua and Barbuda           2.0         34              26          0.00  \nArgentina                     2.3         32              93          0.58  \nArmenia                       1.8         35              63          0.04  \nAustralia                     1.8         38              86          0.33  \nAustria                       1.5         43              57          0.12  \nAzerbaijan                    2.1         32              56          0.13  \nBahamas                       1.8         32              86          0.01  \nBahrain                       2.0         32              89          0.02  \nBangladesh                    2.1         28              39          2.11  \nBarbados                      1.6         40              31          0.00  \nBelarus                       1.7         40              79          0.12  \nBelgium                       1.7         42              98          0.15  \nBelize                        2.3         25              46          0.01  \nBenin                         4.9         19              48          0.16  \nBhutan                        2.0         28              46          0.01  \nBolivia                       2.8         26              69          0.15  \nBosnia and Herzegovina        1.3         43              52          0.04  \nBotswana                      2.9         24              73          0.03  \nBrazil                        1.7         33              88          2.73  \nBrunei                        1.8         32              80          0.01  \nBulgaria                      1.6         45              76          0.09  \nBurkina Faso                  5.2         18              31          0.27  \nBurma                         2.2         29              31          0.70  \nCabo Verde                    2.3         28              68          0.01  \nCambodia                      2.5         26              24          0.21  \n...                           ...        ...              ...          ...  \nSlovenia                      1.6         45              55          0.03  \nSomalia                       6.1         17              47          0.20  \nSouth Africa                  2.4         28              67          0.76  \nSpain                         1.3         45              80          0.60  \nSri Lanka                     2.2         34              18          0.27  \nSudan                         4.4         20              35          0.56  \nSuriname                      2.4         29              65          0.01  \nSweden                        1.9         41              88          0.13  \nSwitzerland                   1.5         43              74          0.11  \nSyria                         2.8         26              60          0.22  \nTaiwan*                       NaN        NaN              NaN          NaN  \nTanzania                      4.9         18              37          0.77  \nThailand                      1.5         40              51          0.90  \nTimor-Leste                   4.1         21              33          0.02  \nTogo                          4.4         19              43          0.11  \nTrinidad and Tobago           1.7         36              52          0.02  \nTunisia                       2.2         33              70          0.15  \nTurkey                        2.1         32              76          1.08  \nUS                            1.8         38              83          4.25  \nUganda                        5.0         17              26          0.59  \nUkraine                       1.4         41              69          0.56  \nUnited Arab Emirates          1.4         33              86          0.13  \nUnited Kingdom                1.8         40              83          0.87  \nUruguay                       2.0         36              96          0.04  \nUzbekistan                    2.4         28              50          0.43  \nVenezuela                     2.3         30             N.A.         0.36  \nVietnam                       2.1         32              38          1.25  \nWest Bank and Gaza            NaN        NaN              NaN          NaN  \nZambia                        4.7         18              45          0.24  \nZimbabwe                      3.6         19              38          0.19  \n\n[178 rows x 12 columns]",
      "text/html": "<div>\n<style scoped>\n    .dataframe tbody tr th:only-of-type {\n        vertical-align: middle;\n    }\n\n    .dataframe tbody tr th {\n        vertical-align: top;\n    }\n\n    .dataframe thead th {\n        text-align: right;\n    }\n</style>\n<table border=\"1\" class=\"dataframe\">\n  <thead>\n    <tr style=\"text-align: right;\">\n      <th></th>\n      <th>t1</th>\n      <th>t2</th>\n      <th>Population</th>\n      <th>Annual_Change</th>\n      <th>Annual_Change_Absolute</th>\n      <th>Density</th>\n      <th>Land_Area</th>\n      <th>Migrants</th>\n      <th>Fert_Rate</th>\n      <th>Median_Age</th>\n      <th>Urban_Population</th>\n      <th>World_Share</th>\n    </tr>\n    <tr>\n      <th>country</th>\n      <th></th>\n      <th></th>\n      <th></th>\n      <th></th>\n      <th></th>\n      <th></th>\n      <th></th>\n      <th></th>\n      <th></th>\n      <th></th>\n      <th></th>\n      <th></th>\n    </tr>\n  </thead>\n  <tbody>\n    <tr>\n      <th>Afghanistan</th>\n      <td>99</td>\n      <td>27.0</td>\n      <td>38928346.0</td>\n      <td>2.33</td>\n      <td>886592.0</td>\n      <td>60.0</td>\n      <td>65286.0</td>\n      <td>-6292.0</td>\n      <td>4.6</td>\n      <td>18</td>\n      <td>25</td>\n      <td>0.50</td>\n    </tr>\n    <tr>\n      <th>Albania</th>\n      <td>113</td>\n      <td>2.0</td>\n      <td>2877797.0</td>\n      <td>-0.11</td>\n      <td>-312.0</td>\n      <td>105.0</td>\n      <td>274.0</td>\n      <td>-14.0</td>\n      <td>1.6</td>\n      <td>36</td>\n      <td>63</td>\n      <td>0.04</td>\n    </tr>\n    <tr>\n      <th>Algeria</th>\n      <td>100</td>\n      <td>16.0</td>\n      <td>43851044.0</td>\n      <td>1.85</td>\n      <td>79799.0</td>\n      <td>18.0</td>\n      <td>2381740.0</td>\n      <td>-10.0</td>\n      <td>3.1</td>\n      <td>29</td>\n      <td>73</td>\n      <td>0.56</td>\n    </tr>\n    <tr>\n      <th>Andorra</th>\n      <td>106</td>\n      <td>20.0</td>\n      <td>77265.0</td>\n      <td>0.16</td>\n      <td>123.0</td>\n      <td>164.0</td>\n      <td>470.0</td>\n      <td>NaN</td>\n      <td>NaN</td>\n      <td>N.A.</td>\n      <td>88</td>\n      <td>0.00</td>\n    </tr>\n    <tr>\n      <th>Angola</th>\n      <td>124</td>\n      <td>9.0</td>\n      <td>32866272.0</td>\n      <td>3.27</td>\n      <td>1040977.0</td>\n      <td>26.0</td>\n      <td>1246700.0</td>\n      <td>6413.0</td>\n      <td>5.6</td>\n      <td>17</td>\n      <td>67</td>\n      <td>0.42</td>\n    </tr>\n    <tr>\n      <th>Antigua and Barbuda</th>\n      <td>117</td>\n      <td>NaN</td>\n      <td>97929.0</td>\n      <td>0.84</td>\n      <td>811.0</td>\n      <td>223.0</td>\n      <td>440.0</td>\n      <td>0.0</td>\n      <td>2.0</td>\n      <td>34</td>\n      <td>26</td>\n      <td>0.00</td>\n    </tr>\n    <tr>\n      <th>Argentina</th>\n      <td>107</td>\n      <td>5.0</td>\n      <td>45195774.0</td>\n      <td>0.93</td>\n      <td>415097.0</td>\n      <td>17.0</td>\n      <td>2736690.0</td>\n      <td>48.0</td>\n      <td>2.3</td>\n      <td>32</td>\n      <td>93</td>\n      <td>0.58</td>\n    </tr>\n    <tr>\n      <th>Armenia</th>\n      <td>105</td>\n      <td>25.0</td>\n      <td>2963243.0</td>\n      <td>0.19</td>\n      <td>5512.0</td>\n      <td>104.0</td>\n      <td>2847.0</td>\n      <td>-4998.0</td>\n      <td>1.8</td>\n      <td>35</td>\n      <td>63</td>\n      <td>0.04</td>\n    </tr>\n    <tr>\n      <th>Australia</th>\n      <td>70</td>\n      <td>35.0</td>\n      <td>25499884.0</td>\n      <td>1.18</td>\n      <td>296686.0</td>\n      <td>3.0</td>\n      <td>7682300.0</td>\n      <td>158246.0</td>\n      <td>1.8</td>\n      <td>38</td>\n      <td>86</td>\n      <td>0.33</td>\n    </tr>\n    <tr>\n      <th>Austria</th>\n      <td>100</td>\n      <td>16.0</td>\n      <td>9006398.0</td>\n      <td>0.57</td>\n      <td>51296.0</td>\n      <td>109.0</td>\n      <td>82409.0</td>\n      <td>65.0</td>\n      <td>1.5</td>\n      <td>43</td>\n      <td>57</td>\n      <td>0.12</td>\n    </tr>\n    <tr>\n      <th>Azerbaijan</th>\n      <td>105</td>\n      <td>12.0</td>\n      <td>10139177.0</td>\n      <td>0.91</td>\n      <td>91459.0</td>\n      <td>123.0</td>\n      <td>82658.0</td>\n      <td>12.0</td>\n      <td>2.1</td>\n      <td>32</td>\n      <td>56</td>\n      <td>0.13</td>\n    </tr>\n    <tr>\n      <th>Bahamas</th>\n      <td>120</td>\n      <td>NaN</td>\n      <td>393244.0</td>\n      <td>0.97</td>\n      <td>3762.0</td>\n      <td>39.0</td>\n      <td>1001.0</td>\n      <td>1.0</td>\n      <td>1.8</td>\n      <td>32</td>\n      <td>86</td>\n      <td>0.01</td>\n    </tr>\n    <tr>\n      <th>Bahrain</th>\n      <td>99</td>\n      <td>21.0</td>\n      <td>1701575.0</td>\n      <td>3.68</td>\n      <td>60403.0</td>\n      <td>2239.0</td>\n      <td>760.0</td>\n      <td>478.0</td>\n      <td>2.0</td>\n      <td>32</td>\n      <td>89</td>\n      <td>0.02</td>\n    </tr>\n    <tr>\n      <th>Bangladesh</th>\n      <td>112</td>\n      <td>10.0</td>\n      <td>164689383.0</td>\n      <td>1.01</td>\n      <td>1643222.0</td>\n      <td>1265.0</td>\n      <td>13017.0</td>\n      <td>-369501.0</td>\n      <td>2.1</td>\n      <td>28</td>\n      <td>39</td>\n      <td>2.11</td>\n    </tr>\n    <tr>\n      <th>Barbados</th>\n      <td>121</td>\n      <td>NaN</td>\n      <td>287375.0</td>\n      <td>0.12</td>\n      <td>350.0</td>\n      <td>668.0</td>\n      <td>430.0</td>\n      <td>-79.0</td>\n      <td>1.6</td>\n      <td>40</td>\n      <td>31</td>\n      <td>0.00</td>\n    </tr>\n    <tr>\n      <th>Belarus</th>\n      <td>103</td>\n      <td>NaN</td>\n      <td>9449323.0</td>\n      <td>-0.03</td>\n      <td>-3088.0</td>\n      <td>47.0</td>\n      <td>20291.0</td>\n      <td>873.0</td>\n      <td>1.7</td>\n      <td>40</td>\n      <td>79</td>\n      <td>0.12</td>\n    </tr>\n    <tr>\n      <th>Belgium</th>\n      <td>79</td>\n      <td>36.0</td>\n      <td>11589623.0</td>\n      <td>0.44</td>\n      <td>50295.0</td>\n      <td>383.0</td>\n      <td>3028.0</td>\n      <td>48.0</td>\n      <td>1.7</td>\n      <td>42</td>\n      <td>98</td>\n      <td>0.15</td>\n    </tr>\n    <tr>\n      <th>Belize</th>\n      <td>127</td>\n      <td>NaN</td>\n      <td>397628.0</td>\n      <td>1.86</td>\n      <td>7275.0</td>\n      <td>17.0</td>\n      <td>2281.0</td>\n      <td>12.0</td>\n      <td>2.3</td>\n      <td>25</td>\n      <td>46</td>\n      <td>0.01</td>\n    </tr>\n    <tr>\n      <th>Benin</th>\n      <td>120</td>\n      <td>NaN</td>\n      <td>12123200.0</td>\n      <td>2.73</td>\n      <td>322049.0</td>\n      <td>108.0</td>\n      <td>11276.0</td>\n      <td>-2.0</td>\n      <td>4.9</td>\n      <td>19</td>\n      <td>48</td>\n      <td>0.16</td>\n    </tr>\n    <tr>\n      <th>Bhutan</th>\n      <td>110</td>\n      <td>NaN</td>\n      <td>771608.0</td>\n      <td>1.12</td>\n      <td>8516.0</td>\n      <td>20.0</td>\n      <td>38117.0</td>\n      <td>320.0</td>\n      <td>2.0</td>\n      <td>28</td>\n      <td>46</td>\n      <td>0.01</td>\n    </tr>\n    <tr>\n      <th>Bolivia</th>\n      <td>115</td>\n      <td>18.0</td>\n      <td>11673021.0</td>\n      <td>1.39</td>\n      <td>159921.0</td>\n      <td>11.0</td>\n      <td>1083300.0</td>\n      <td>-9504.0</td>\n      <td>2.8</td>\n      <td>26</td>\n      <td>69</td>\n      <td>0.15</td>\n    </tr>\n    <tr>\n      <th>Bosnia and Herzegovina</th>\n      <td>109</td>\n      <td>16.0</td>\n      <td>3280819.0</td>\n      <td>-0.61</td>\n      <td>-20181.0</td>\n      <td>64.0</td>\n      <td>51.0</td>\n      <td>-21585.0</td>\n      <td>1.3</td>\n      <td>43</td>\n      <td>52</td>\n      <td>0.04</td>\n    </tr>\n    <tr>\n      <th>Botswana</th>\n      <td>134</td>\n      <td>NaN</td>\n      <td>2351627.0</td>\n      <td>2.08</td>\n      <td>4793.0</td>\n      <td>4.0</td>\n      <td>56673.0</td>\n      <td>3.0</td>\n      <td>2.9</td>\n      <td>24</td>\n      <td>73</td>\n      <td>0.03</td>\n    </tr>\n    <tr>\n      <th>Brazil</th>\n      <td>101</td>\n      <td>20.0</td>\n      <td>212559417.0</td>\n      <td>0.72</td>\n      <td>1509890.0</td>\n      <td>25.0</td>\n      <td>8358140.0</td>\n      <td>212.0</td>\n      <td>1.7</td>\n      <td>33</td>\n      <td>88</td>\n      <td>2.73</td>\n    </tr>\n    <tr>\n      <th>Brunei</th>\n      <td>113</td>\n      <td>19.0</td>\n      <td>437479.0</td>\n      <td>0.97</td>\n      <td>4194.0</td>\n      <td>83.0</td>\n      <td>527.0</td>\n      <td>0.0</td>\n      <td>1.8</td>\n      <td>32</td>\n      <td>80</td>\n      <td>0.01</td>\n    </tr>\n    <tr>\n      <th>Bulgaria</th>\n      <td>112</td>\n      <td>3.0</td>\n      <td>6948445.0</td>\n      <td>-0.74</td>\n      <td>-51674.0</td>\n      <td>64.0</td>\n      <td>10856.0</td>\n      <td>-48.0</td>\n      <td>1.6</td>\n      <td>45</td>\n      <td>76</td>\n      <td>0.09</td>\n    </tr>\n    <tr>\n      <th>Burkina Faso</th>\n      <td>114</td>\n      <td>8.0</td>\n      <td>20903273.0</td>\n      <td>2.86</td>\n      <td>581895.0</td>\n      <td>76.0</td>\n      <td>2736.0</td>\n      <td>-25.0</td>\n      <td>5.2</td>\n      <td>18</td>\n      <td>31</td>\n      <td>0.27</td>\n    </tr>\n    <tr>\n      <th>Burma</th>\n      <td>131</td>\n      <td>NaN</td>\n      <td>54409800.0</td>\n      <td>0.67</td>\n      <td>36438.0</td>\n      <td>83.0</td>\n      <td>65329.0</td>\n      <td>-163313.0</td>\n      <td>2.2</td>\n      <td>29</td>\n      <td>31</td>\n      <td>0.70</td>\n    </tr>\n    <tr>\n      <th>Cabo Verde</th>\n      <td>124</td>\n      <td>4.0</td>\n      <td>555987.0</td>\n      <td>1.10</td>\n      <td>6052.0</td>\n      <td>138.0</td>\n      <td>403.0</td>\n      <td>-1342.0</td>\n      <td>2.3</td>\n      <td>28</td>\n      <td>68</td>\n      <td>0.01</td>\n    </tr>\n    <tr>\n      <th>Cambodia</th>\n      <td>71</td>\n      <td>NaN</td>\n      <td>16718965.0</td>\n      <td>1.41</td>\n      <td>232423.0</td>\n      <td>95.0</td>\n      <td>17652.0</td>\n      <td>-30.0</td>\n      <td>2.5</td>\n      <td>26</td>\n      <td>24</td>\n      <td>0.21</td>\n    </tr>\n    <tr>\n      <th>...</th>\n      <td>...</td>\n      <td>...</td>\n      <td>...</td>\n      <td>...</td>\n      <td>...</td>\n      <td>...</td>\n      <td>...</td>\n      <td>...</td>\n      <td>...</td>\n      <td>...</td>\n      <td>...</td>\n      <td>...</td>\n    </tr>\n    <tr>\n      <th>Slovenia</th>\n      <td>109</td>\n      <td>9.0</td>\n      <td>2078938.0</td>\n      <td>0.01</td>\n      <td>284.0</td>\n      <td>103.0</td>\n      <td>2014.0</td>\n      <td>2.0</td>\n      <td>1.6</td>\n      <td>45</td>\n      <td>55</td>\n      <td>0.03</td>\n    </tr>\n    <tr>\n      <th>Somalia</th>\n      <td>120</td>\n      <td>NaN</td>\n      <td>15893222.0</td>\n      <td>2.92</td>\n      <td>450317.0</td>\n      <td>25.0</td>\n      <td>62734.0</td>\n      <td>-40.0</td>\n      <td>6.1</td>\n      <td>17</td>\n      <td>47</td>\n      <td>0.20</td>\n    </tr>\n    <tr>\n      <th>South Africa</th>\n      <td>109</td>\n      <td>22.0</td>\n      <td>59308690.0</td>\n      <td>1.28</td>\n      <td>75042.0</td>\n      <td>49.0</td>\n      <td>1213090.0</td>\n      <td>145405.0</td>\n      <td>2.4</td>\n      <td>28</td>\n      <td>67</td>\n      <td>0.76</td>\n    </tr>\n    <tr>\n      <th>Spain</th>\n      <td>76</td>\n      <td>31.0</td>\n      <td>46754778.0</td>\n      <td>0.04</td>\n      <td>18002.0</td>\n      <td>94.0</td>\n      <td>4988.0</td>\n      <td>40.0</td>\n      <td>1.3</td>\n      <td>45</td>\n      <td>80</td>\n      <td>0.60</td>\n    </tr>\n    <tr>\n      <th>Sri Lanka</th>\n      <td>71</td>\n      <td>61.0</td>\n      <td>21413249.0</td>\n      <td>0.42</td>\n      <td>89516.0</td>\n      <td>341.0</td>\n      <td>6271.0</td>\n      <td>-97986.0</td>\n      <td>2.2</td>\n      <td>34</td>\n      <td>18</td>\n      <td>0.27</td>\n    </tr>\n    <tr>\n      <th>Sudan</th>\n      <td>117</td>\n      <td>0.0</td>\n      <td>43849260.0</td>\n      <td>2.42</td>\n      <td>1036022.0</td>\n      <td>25.0</td>\n      <td>1765048.0</td>\n      <td>-50.0</td>\n      <td>4.4</td>\n      <td>20</td>\n      <td>35</td>\n      <td>0.56</td>\n    </tr>\n    <tr>\n      <th>Suriname</th>\n      <td>118</td>\n      <td>NaN</td>\n      <td>586632.0</td>\n      <td>0.90</td>\n      <td>526.0</td>\n      <td>4.0</td>\n      <td>156.0</td>\n      <td>-1.0</td>\n      <td>2.4</td>\n      <td>29</td>\n      <td>65</td>\n      <td>0.01</td>\n    </tr>\n    <tr>\n      <th>Sweden</th>\n      <td>75</td>\n      <td>40.0</td>\n      <td>10099265.0</td>\n      <td>0.63</td>\n      <td>62886.0</td>\n      <td>25.0</td>\n      <td>41034.0</td>\n      <td>40.0</td>\n      <td>1.9</td>\n      <td>41</td>\n      <td>88</td>\n      <td>0.13</td>\n    </tr>\n    <tr>\n      <th>Switzerland</th>\n      <td>100</td>\n      <td>9.0</td>\n      <td>8654622.0</td>\n      <td>0.74</td>\n      <td>63257.0</td>\n      <td>219.0</td>\n      <td>39516.0</td>\n      <td>52.0</td>\n      <td>1.5</td>\n      <td>43</td>\n      <td>74</td>\n      <td>0.11</td>\n    </tr>\n    <tr>\n      <th>Syria</th>\n      <td>126</td>\n      <td>7.0</td>\n      <td>17500658.0</td>\n      <td>2.52</td>\n      <td>430523.0</td>\n      <td>95.0</td>\n      <td>18363.0</td>\n      <td>-427391.0</td>\n      <td>2.8</td>\n      <td>26</td>\n      <td>60</td>\n      <td>0.22</td>\n    </tr>\n    <tr>\n      <th>Taiwan*</th>\n      <td>66</td>\n      <td>25.0</td>\n      <td>NaN</td>\n      <td>NaN</td>\n      <td>NaN</td>\n      <td>NaN</td>\n      <td>NaN</td>\n      <td>NaN</td>\n      <td>NaN</td>\n      <td>NaN</td>\n      <td>NaN</td>\n      <td>NaN</td>\n    </tr>\n    <tr>\n      <th>Tanzania</th>\n      <td>120</td>\n      <td>NaN</td>\n      <td>59734218.0</td>\n      <td>2.98</td>\n      <td>1728755.0</td>\n      <td>67.0</td>\n      <td>8858.0</td>\n      <td>-40076.0</td>\n      <td>4.9</td>\n      <td>18</td>\n      <td>37</td>\n      <td>0.77</td>\n    </tr>\n    <tr>\n      <th>Thailand</th>\n      <td>66</td>\n      <td>39.0</td>\n      <td>69799978.0</td>\n      <td>0.25</td>\n      <td>174396.0</td>\n      <td>137.0</td>\n      <td>51089.0</td>\n      <td>19444.0</td>\n      <td>1.5</td>\n      <td>40</td>\n      <td>51</td>\n      <td>0.90</td>\n    </tr>\n    <tr>\n      <th>Timor-Leste</th>\n      <td>126</td>\n      <td>NaN</td>\n      <td>1318445.0</td>\n      <td>1.96</td>\n      <td>25326.0</td>\n      <td>89.0</td>\n      <td>1487.0</td>\n      <td>-5385.0</td>\n      <td>4.1</td>\n      <td>21</td>\n      <td>33</td>\n      <td>0.02</td>\n    </tr>\n    <tr>\n      <th>Togo</th>\n      <td>110</td>\n      <td>21.0</td>\n      <td>8278724.0</td>\n      <td>2.43</td>\n      <td>196358.0</td>\n      <td>152.0</td>\n      <td>5439.0</td>\n      <td>-2.0</td>\n      <td>4.4</td>\n      <td>19</td>\n      <td>43</td>\n      <td>0.11</td>\n    </tr>\n    <tr>\n      <th>Trinidad and Tobago</th>\n      <td>118</td>\n      <td>11.0</td>\n      <td>1399488.0</td>\n      <td>0.32</td>\n      <td>4515.0</td>\n      <td>273.0</td>\n      <td>513.0</td>\n      <td>-800.0</td>\n      <td>1.7</td>\n      <td>36</td>\n      <td>52</td>\n      <td>0.02</td>\n    </tr>\n    <tr>\n      <th>Tunisia</th>\n      <td>108</td>\n      <td>15.0</td>\n      <td>11818619.0</td>\n      <td>1.06</td>\n      <td>1239.0</td>\n      <td>76.0</td>\n      <td>15536.0</td>\n      <td>-4.0</td>\n      <td>2.2</td>\n      <td>33</td>\n      <td>70</td>\n      <td>0.15</td>\n    </tr>\n    <tr>\n      <th>Turkey</th>\n      <td>115</td>\n      <td>6.0</td>\n      <td>84339067.0</td>\n      <td>1.09</td>\n      <td>909452.0</td>\n      <td>110.0</td>\n      <td>76963.0</td>\n      <td>283922.0</td>\n      <td>2.1</td>\n      <td>32</td>\n      <td>76</td>\n      <td>1.08</td>\n    </tr>\n    <tr>\n      <th>US</th>\n      <td>66</td>\n      <td>38.0</td>\n      <td>331002651.0</td>\n      <td>0.59</td>\n      <td>1937734.0</td>\n      <td>36.0</td>\n      <td>9147420.0</td>\n      <td>954806.0</td>\n      <td>1.8</td>\n      <td>38</td>\n      <td>83</td>\n      <td>4.25</td>\n    </tr>\n    <tr>\n      <th>Uganda</th>\n      <td>125</td>\n      <td>NaN</td>\n      <td>45741007.0</td>\n      <td>3.32</td>\n      <td>1471413.0</td>\n      <td>229.0</td>\n      <td>19981.0</td>\n      <td>168694.0</td>\n      <td>5.0</td>\n      <td>17</td>\n      <td>26</td>\n      <td>0.59</td>\n    </tr>\n    <tr>\n      <th>Ukraine</th>\n      <td>107</td>\n      <td>10.0</td>\n      <td>43733762.0</td>\n      <td>-0.59</td>\n      <td>-259876.0</td>\n      <td>75.0</td>\n      <td>57932.0</td>\n      <td>10.0</td>\n      <td>1.4</td>\n      <td>41</td>\n      <td>69</td>\n      <td>0.56</td>\n    </tr>\n    <tr>\n      <th>United Arab Emirates</th>\n      <td>73</td>\n      <td>51.0</td>\n      <td>9890402.0</td>\n      <td>1.23</td>\n      <td>119873.0</td>\n      <td>118.0</td>\n      <td>836.0</td>\n      <td>40.0</td>\n      <td>1.4</td>\n      <td>33</td>\n      <td>86</td>\n      <td>0.13</td>\n    </tr>\n    <tr>\n      <th>United Kingdom</th>\n      <td>75</td>\n      <td>34.0</td>\n      <td>67886011.0</td>\n      <td>0.53</td>\n      <td>355839.0</td>\n      <td>281.0</td>\n      <td>24193.0</td>\n      <td>26065.0</td>\n      <td>1.8</td>\n      <td>40</td>\n      <td>83</td>\n      <td>0.87</td>\n    </tr>\n    <tr>\n      <th>Uruguay</th>\n      <td>118</td>\n      <td>15.0</td>\n      <td>3473730.0</td>\n      <td>0.35</td>\n      <td>11996.0</td>\n      <td>20.0</td>\n      <td>17502.0</td>\n      <td>-3.0</td>\n      <td>2.0</td>\n      <td>36</td>\n      <td>96</td>\n      <td>0.04</td>\n    </tr>\n    <tr>\n      <th>Uzbekistan</th>\n      <td>119</td>\n      <td>12.0</td>\n      <td>33469203.0</td>\n      <td>1.48</td>\n      <td>487487.0</td>\n      <td>79.0</td>\n      <td>4254.0</td>\n      <td>-8863.0</td>\n      <td>2.4</td>\n      <td>28</td>\n      <td>50</td>\n      <td>0.43</td>\n    </tr>\n    <tr>\n      <th>Venezuela</th>\n      <td>118</td>\n      <td>13.0</td>\n      <td>28435940.0</td>\n      <td>-0.28</td>\n      <td>-79889.0</td>\n      <td>32.0</td>\n      <td>88205.0</td>\n      <td>-653249.0</td>\n      <td>2.3</td>\n      <td>30</td>\n      <td>N.A.</td>\n      <td>0.36</td>\n    </tr>\n    <tr>\n      <th>Vietnam</th>\n      <td>67</td>\n      <td>NaN</td>\n      <td>97338579.0</td>\n      <td>0.91</td>\n      <td>876473.0</td>\n      <td>314.0</td>\n      <td>31007.0</td>\n      <td>-80.0</td>\n      <td>2.1</td>\n      <td>32</td>\n      <td>38</td>\n      <td>1.25</td>\n    </tr>\n    <tr>\n      <th>West Bank and Gaza</th>\n      <td>109</td>\n      <td>21.0</td>\n      <td>NaN</td>\n      <td>NaN</td>\n      <td>NaN</td>\n      <td>NaN</td>\n      <td>NaN</td>\n      <td>NaN</td>\n      <td>NaN</td>\n      <td>NaN</td>\n      <td>NaN</td>\n      <td>NaN</td>\n    </tr>\n    <tr>\n      <th>Zambia</th>\n      <td>122</td>\n      <td>NaN</td>\n      <td>18383955.0</td>\n      <td>2.93</td>\n      <td>522925.0</td>\n      <td>25.0</td>\n      <td>74339.0</td>\n      <td>-8.0</td>\n      <td>4.7</td>\n      <td>18</td>\n      <td>45</td>\n      <td>0.24</td>\n    </tr>\n    <tr>\n      <th>Zimbabwe</th>\n      <td>124</td>\n      <td>3.0</td>\n      <td>14862924.0</td>\n      <td>1.48</td>\n      <td>217456.0</td>\n      <td>38.0</td>\n      <td>38685.0</td>\n      <td>-116858.0</td>\n      <td>3.6</td>\n      <td>19</td>\n      <td>38</td>\n      <td>0.19</td>\n    </tr>\n  </tbody>\n</table>\n<p>178 rows × 12 columns</p>\n</div>"
     },
     "metadata": {},
     "execution_count": 17
    }
   ],
   "source": [
    "timeline"
   ]
  },
  {
   "cell_type": "code",
   "execution_count": 18,
   "metadata": {},
   "outputs": [],
   "source": [
    "timeline.to_csv('timeline.csv', index = False)\n",
    ""
   ]
  },
  {
   "cell_type": "code",
   "execution_count": 19,
   "metadata": {},
   "outputs": [
    {
     "output_type": "execute_result",
     "data": {
      "text/plain": "Index(['Population', 'Annual_Change', 'Annual_Change_Absolute', 'Density',\n       'Land_Area', 'Migrants', 'Fert_Rate', 'Median_Age', 'Urban_Population',\n       'World_Share'],\n      dtype='object')"
     },
     "metadata": {},
     "execution_count": 19
    }
   ],
   "source": [
    "data_population.columns"
   ]
  },
  {
   "cell_type": "code",
   "execution_count": null,
   "metadata": {},
   "outputs": [],
   "source": []
  }
 ]
}